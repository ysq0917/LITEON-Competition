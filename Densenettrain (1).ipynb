{
  "nbformat": 4,
  "nbformat_minor": 0,
  "metadata": {
    "colab": {
      "name": "Densenettrain.ipynb",
      "provenance": [],
      "collapsed_sections": []
    },
    "kernelspec": {
      "name": "python3",
      "display_name": "Python 3"
    },
    "language_info": {
      "name": "python"
    },
    "accelerator": "GPU"
  },
  "cells": [
    {
      "cell_type": "code",
      "metadata": {
        "colab": {
          "base_uri": "https://localhost:8080/"
        },
        "id": "NvTzNXNZ-zhW",
        "outputId": "41fc334f-320d-47f8-e636-4964b60b0b40"
      },
      "source": [
        "from google.colab import drive\n",
        "drive.mount('/content/gdrive')"
      ],
      "execution_count": 6,
      "outputs": [
        {
          "output_type": "stream",
          "text": [
            "Mounted at /content/gdrive\n"
          ],
          "name": "stdout"
        }
      ]
    },
    {
      "cell_type": "code",
      "metadata": {
        "colab": {
          "base_uri": "https://localhost:8080/",
          "height": 59
        },
        "id": "tyzCYRs9cLxr",
        "outputId": "7783b4f5-0af1-45cd-e3af-eec0d17ab30a"
      },
      "source": [
        "from PIL import Image\n",
        "img = Image.open('/content/gdrive/MyDrive/racedata/LiteonRacingData/A/0/20190802023050_8SSB20N60164H1DG97Y02G6_R1248_1_SolderLight.png')\n",
        "img"
      ],
      "execution_count": null,
      "outputs": [
        {
          "output_type": "execute_result",
          "data": {
            "image/png": "[encoded data removed]",
            "text/plain": [
              "<PIL.PngImagePlugin.PngImageFile image mode=RGB size=110x42 at 0x7F1B67F72910>"
            ]
          },
          "metadata": {
            "tags": []
          },
          "execution_count": 3
        }
      ]
    },
    {
      "cell_type": "code",
      "metadata": {
        "colab": {
          "base_uri": "https://localhost:8080/"
        },
        "id": "mVpJUHEgdcbv",
        "outputId": "eec679b6-40e8-40c0-a32b-51d2a131c5c5"
      },
      "source": [
        "from tensorflow.keras.preprocessing.image import load_img,img_to_array\n",
        "img = load_img('/content/gdrive/MyDrive/racedata/LiteonRacingData/A/0/20190802023050_8SSB20N60164H1DG97Y02G6_R1248_1_SolderLight.png')\n",
        "data = img_to_array(img)\n",
        "data.shape"
      ],
      "execution_count": null,
      "outputs": [
        {
          "output_type": "execute_result",
          "data": {
            "text/plain": [
              "(42, 110, 3)"
            ]
          },
          "metadata": {
            "tags": []
          },
          "execution_count": 4
        }
      ]
    },
    {
      "cell_type": "code",
      "metadata": {
        "id": "D1JSl9kNd6aA"
      },
      "source": [
        "# load the Keras libraries.\n",
        "from keras.layers import Dense, Conv2D, MaxPooling2D , Flatten , Dropout\n",
        "from keras.preprocessing.image import ImageDataGenerator\n",
        "from keras.applications import densenet\n",
        "from keras.models import Sequential, Model, load_model\n",
        "from keras.layers import Conv2D, MaxPooling2D\n",
        "from keras.layers import Activation, Dropout, Flatten, Dense\n",
        "from keras.callbacks import EarlyStopping, ReduceLROnPlateau, ModelCheckpoint, Callback\n",
        "from keras import regularizers\n",
        "from keras import backend as K"
      ],
      "execution_count": 10,
      "outputs": []
    },
    {
      "cell_type": "code",
      "metadata": {
        "colab": {
          "base_uri": "https://localhost:8080/"
        },
        "id": "YEuLaNSvRbY0",
        "outputId": "2106b148-1891-4ce3-c883-ffd734597640"
      },
      "source": [
        "K.set_learning_phase(1)"
      ],
      "execution_count": null,
      "outputs": [
        {
          "output_type": "stream",
          "text": [
            "/usr/local/lib/python3.7/dist-packages/keras/backend.py:401: UserWarning: `tf.keras.backend.set_learning_phase` is deprecated and will be removed after 2020-10-11. To update it, simply pass a True/False value to the `training` argument of the `__call__` method of your layer or model.\n",
            "  warnings.warn('`tf.keras.backend.set_learning_phase` is deprecated and '\n"
          ],
          "name": "stderr"
        }
      ]
    },
    {
      "cell_type": "code",
      "metadata": {
        "id": "Ld9JDTG2clPl"
      },
      "source": [
        "img_width, img_height = 224, 224\n",
        "nb_train_samples = 12000\n",
        "nb_validation_samples = 200\n",
        "epochs = 10\n",
        "batch_size = 32\n",
        "n_classes = 8"
      ],
      "execution_count": 12,
      "outputs": []
    },
    {
      "cell_type": "code",
      "metadata": {
        "colab": {
          "base_uri": "https://localhost:8080/"
        },
        "id": "aILuKvhIR3oY",
        "outputId": "0d3d896e-0a2f-4fe2-ddbb-133a95aeb202"
      },
      "source": [
        "train_data_dir = \"/content/gdrive/MyDrive/racedata/LiteonRacingData/A/\"\n",
        "validation_data_dir = \"/content/gdrive/MyDrive/racedata/LiteonRacingData/B/\"\n",
        "\n",
        "train_datagen = ImageDataGenerator(\n",
        "    rescale=1. / 255,\n",
        "    zoom_range=0.2,\n",
        "    rotation_range = 5,\n",
        "    #width_shift_range=0.2,\n",
        "    #height_shift_range=0.2,\n",
        "    horizontal_flip=True)\n",
        "\n",
        "test_datagen = ImageDataGenerator(rescale=1. / 255)\n",
        "\n",
        "train_generator = train_datagen.flow_from_directory(\n",
        "    train_data_dir,\n",
        "    target_size=(img_width, img_height),\n",
        "    batch_size=batch_size,\n",
        "    class_mode='categorical')\n",
        "\n",
        "validation_generator = test_datagen.flow_from_directory(\n",
        "    validation_data_dir,\n",
        "    target_size=(img_width, img_height),\n",
        "    batch_size=batch_size,\n",
        "    class_mode='categorical')"
      ],
      "execution_count": 13,
      "outputs": [
        {
          "output_type": "stream",
          "text": [
            "Found 12000 images belonging to 8 classes.\n",
            "Found 200 images belonging to 8 classes.\n"
          ],
          "name": "stdout"
        }
      ]
    },
    {
      "cell_type": "code",
      "metadata": {
        "id": "WAtE49oFgyZf"
      },
      "source": [
        "BASE_WEIGHTS_PATH = ('https://storage.googleapis.com/tensorflow/'\n",
        "                     'keras-applications/densenet/')\n",
        "DENSENET121_WEIGHT_PATH = (\n",
        "    BASE_WEIGHTS_PATH + 'densenet121_weights_tf_dim_ordering_tf_kernels.h5')"
      ],
      "execution_count": null,
      "outputs": []
    },
    {
      "cell_type": "code",
      "metadata": {
        "id": "_5d_j-aKUNS0"
      },
      "source": [
        "def build_model():\n",
        "    base_model = densenet.DenseNet121(input_shape=(img_width, img_height, 3),\n",
        "                                     #weights='../input/full-keras-pretrained-no-top/densenet121_weights_tf_dim_ordering_tf_kernels_notop.h5',\n",
        "                                     weights='imagenet', #add\n",
        "                                     #weights= DENSENET121_WEIGHT_PATH,\n",
        "                                     include_top=False,\n",
        "                                     pooling='avg')\n",
        "    for layer in base_model.layers:\n",
        "      layer.trainable = True\n",
        "\n",
        "    x = base_model.output\n",
        "    x = Dense(1000, kernel_regularizer=regularizers.l1_l2(0.01), activity_regularizer=regularizers.l2(0.01))(x)\n",
        "    x = Activation('relu')(x)\n",
        "    x = Dense(500, kernel_regularizer=regularizers.l1_l2(0.01), activity_regularizer=regularizers.l2(0.01))(x)\n",
        "    x = Activation('relu')(x)\n",
        "    predictions = Dense(n_classes, activation='softmax')(x)\n",
        "    model = Model(inputs=base_model.input, outputs=predictions)\n",
        "    \n",
        "    return model"
      ],
      "execution_count": null,
      "outputs": []
    },
    {
      "cell_type": "code",
      "metadata": {
        "colab": {
          "base_uri": "https://localhost:8080/"
        },
        "id": "280UFfdXUkx6",
        "outputId": "281d63bb-fcec-43aa-ef00-bdf0b15adf3d"
      },
      "source": [
        "model = build_model()\n",
        "model.compile(loss='categorical_crossentropy', optimizer='adam', metrics=['acc', 'mse'])"
      ],
      "execution_count": null,
      "outputs": [
        {
          "output_type": "stream",
          "text": [
            "Downloading data from https://storage.googleapis.com/tensorflow/keras-applications/densenet/densenet121_weights_tf_dim_ordering_tf_kernels_notop.h5\n",
            "29089792/29084464 [==============================] - 0s 0us/step\n",
            "29097984/29084464 [==============================] - 0s 0us/step\n"
          ],
          "name": "stdout"
        }
      ]
    },
    {
      "cell_type": "code",
      "metadata": {
        "id": "y0r1W7RYUtfQ"
      },
      "source": [
        "early_stop = EarlyStopping(monitor='val_loss', patience=8, verbose=1, min_delta=1e-4)\n",
        "reduce_lr = ReduceLROnPlateau(monitor='val_loss', factor=0.1, patience=4, verbose=1, min_delta=1e-4)\n",
        "callbacks_list = [early_stop, reduce_lr]"
      ],
      "execution_count": null,
      "outputs": []
    },
    {
      "cell_type": "code",
      "metadata": {
        "colab": {
          "base_uri": "https://localhost:8080/"
        },
        "id": "CFo8-OCZVt30",
        "outputId": "75b40c8d-60cb-4261-c6e9-786370da0ecf"
      },
      "source": [
        "model_history = model.fit_generator(\n",
        "    train_generator,\n",
        "    epochs=50,\n",
        "    validation_data=validation_generator,\n",
        "    validation_steps=nb_validation_samples // batch_size,\n",
        "    callbacks=callbacks_list)"
      ],
      "execution_count": null,
      "outputs": [
        {
          "output_type": "stream",
          "text": [
            "/usr/local/lib/python3.7/dist-packages/keras/engine/training.py:1972: UserWarning: `Model.fit_generator` is deprecated and will be removed in a future version. Please use `Model.fit`, which supports generators.\n",
            "  warnings.warn('`Model.fit_generator` is deprecated and '\n"
          ],
          "name": "stderr"
        },
        {
          "output_type": "stream",
          "text": [
            "Epoch 1/50\n",
            "375/375 [==============================] - 3925s 10s/step - loss: 30.0872 - acc: 0.8657 - mse: 0.0262 - val_loss: 3.2112 - val_acc: 0.6927 - val_mse: 0.0578\n",
            "Epoch 2/50\n",
            "375/375 [==============================] - 187s 499ms/step - loss: 2.2777 - acc: 0.9080 - mse: 0.0164 - val_loss: 3.8745 - val_acc: 0.2552 - val_mse: 0.1053\n",
            "Epoch 3/50\n",
            "375/375 [==============================] - 186s 497ms/step - loss: 2.1716 - acc: 0.9291 - mse: 0.0140 - val_loss: 4.5122 - val_acc: 0.1146 - val_mse: 0.1298\n",
            "Epoch 4/50\n",
            "375/375 [==============================] - 187s 498ms/step - loss: 2.1408 - acc: 0.9335 - mse: 0.0136 - val_loss: 3.3988 - val_acc: 0.3021 - val_mse: 0.0913\n",
            "Epoch 5/50\n",
            "375/375 [==============================] - 187s 499ms/step - loss: 2.0782 - acc: 0.9430 - mse: 0.0115 - val_loss: 3.4562 - val_acc: 0.3229 - val_mse: 0.0959\n",
            "\n",
            "Epoch 00005: ReduceLROnPlateau reducing learning rate to 0.00010000000474974513.\n",
            "Epoch 6/50\n",
            "375/375 [==============================] - 187s 497ms/step - loss: 0.5696 - acc: 0.9538 - mse: 0.0095 - val_loss: 1.9209 - val_acc: 0.3177 - val_mse: 0.0962\n",
            "Epoch 7/50\n",
            "375/375 [==============================] - 187s 498ms/step - loss: 0.5167 - acc: 0.9575 - mse: 0.0087 - val_loss: 1.8280 - val_acc: 0.3385 - val_mse: 0.0912\n",
            "Epoch 8/50\n",
            "375/375 [==============================] - 188s 500ms/step - loss: 0.5102 - acc: 0.9582 - mse: 0.0085 - val_loss: 1.7720 - val_acc: 0.3854 - val_mse: 0.0874\n",
            "Epoch 9/50\n",
            "375/375 [==============================] - 186s 497ms/step - loss: 0.5060 - acc: 0.9582 - mse: 0.0084 - val_loss: 1.9467 - val_acc: 0.3021 - val_mse: 0.0995\n",
            "Epoch 10/50\n",
            "375/375 [==============================] - 187s 499ms/step - loss: 0.4975 - acc: 0.9603 - mse: 0.0080 - val_loss: 1.8804 - val_acc: 0.3698 - val_mse: 0.0941\n",
            "Epoch 11/50\n",
            "375/375 [==============================] - 185s 493ms/step - loss: 0.4931 - acc: 0.9592 - mse: 0.0079 - val_loss: 1.8651 - val_acc: 0.3698 - val_mse: 0.0926\n",
            "Epoch 12/50\n",
            "375/375 [==============================] - 185s 493ms/step - loss: 0.4861 - acc: 0.9604 - mse: 0.0076 - val_loss: 1.8782 - val_acc: 0.4115 - val_mse: 0.0911\n",
            "\n",
            "Epoch 00012: ReduceLROnPlateau reducing learning rate to 1.0000000474974514e-05.\n",
            "Epoch 13/50\n",
            "375/375 [==============================] - 184s 489ms/step - loss: 0.3242 - acc: 0.9625 - mse: 0.0074 - val_loss: 1.6476 - val_acc: 0.4167 - val_mse: 0.0891\n",
            "Epoch 14/50\n",
            "375/375 [==============================] - 184s 490ms/step - loss: 0.3196 - acc: 0.9624 - mse: 0.0074 - val_loss: 1.6565 - val_acc: 0.4062 - val_mse: 0.0892\n",
            "Epoch 15/50\n",
            "375/375 [==============================] - 183s 488ms/step - loss: 0.3173 - acc: 0.9628 - mse: 0.0073 - val_loss: 1.6060 - val_acc: 0.4427 - val_mse: 0.0858\n",
            "Epoch 16/50\n",
            "375/375 [==============================] - 185s 492ms/step - loss: 0.3171 - acc: 0.9627 - mse: 0.0072 - val_loss: 1.6565 - val_acc: 0.4062 - val_mse: 0.0894\n",
            "Epoch 17/50\n",
            "375/375 [==============================] - 186s 496ms/step - loss: 0.3156 - acc: 0.9635 - mse: 0.0071 - val_loss: 1.5916 - val_acc: 0.4375 - val_mse: 0.0844\n",
            "Epoch 18/50\n",
            "375/375 [==============================] - 185s 492ms/step - loss: 0.3140 - acc: 0.9633 - mse: 0.0070 - val_loss: 1.5700 - val_acc: 0.4375 - val_mse: 0.0833\n",
            "Epoch 19/50\n",
            "375/375 [==============================] - 186s 495ms/step - loss: 0.3136 - acc: 0.9636 - mse: 0.0070 - val_loss: 1.5454 - val_acc: 0.4583 - val_mse: 0.0818\n",
            "Epoch 20/50\n",
            "375/375 [==============================] - 186s 495ms/step - loss: 0.3138 - acc: 0.9627 - mse: 0.0071 - val_loss: 1.5105 - val_acc: 0.4740 - val_mse: 0.0791\n",
            "Epoch 21/50\n",
            "375/375 [==============================] - 185s 494ms/step - loss: 0.3115 - acc: 0.9638 - mse: 0.0070 - val_loss: 1.5602 - val_acc: 0.4427 - val_mse: 0.0822\n",
            "Epoch 22/50\n",
            "375/375 [==============================] - 186s 495ms/step - loss: 0.3109 - acc: 0.9638 - mse: 0.0069 - val_loss: 1.5779 - val_acc: 0.4583 - val_mse: 0.0832\n",
            "Epoch 23/50\n",
            "375/375 [==============================] - 186s 494ms/step - loss: 0.3099 - acc: 0.9643 - mse: 0.0069 - val_loss: 1.6001 - val_acc: 0.4427 - val_mse: 0.0843\n",
            "Epoch 24/50\n",
            "375/375 [==============================] - 185s 494ms/step - loss: 0.3103 - acc: 0.9637 - mse: 0.0069 - val_loss: 1.6519 - val_acc: 0.4323 - val_mse: 0.0862\n",
            "\n",
            "Epoch 00024: ReduceLROnPlateau reducing learning rate to 1.0000000656873453e-06.\n",
            "Epoch 25/50\n",
            "375/375 [==============================] - 185s 494ms/step - loss: 0.2949 - acc: 0.9635 - mse: 0.0070 - val_loss: 1.5526 - val_acc: 0.4740 - val_mse: 0.0815\n",
            "Epoch 26/50\n",
            "375/375 [==============================] - 186s 495ms/step - loss: 0.2935 - acc: 0.9639 - mse: 0.0069 - val_loss: 1.5443 - val_acc: 0.4635 - val_mse: 0.0813\n",
            "Epoch 27/50\n",
            "375/375 [==============================] - 186s 495ms/step - loss: 0.2930 - acc: 0.9638 - mse: 0.0069 - val_loss: 1.5583 - val_acc: 0.4531 - val_mse: 0.0820\n",
            "Epoch 28/50\n",
            "375/375 [==============================] - 185s 492ms/step - loss: 0.2928 - acc: 0.9638 - mse: 0.0069 - val_loss: 1.4837 - val_acc: 0.5104 - val_mse: 0.0775\n",
            "Epoch 29/50\n",
            "375/375 [==============================] - 186s 494ms/step - loss: 0.2922 - acc: 0.9641 - mse: 0.0068 - val_loss: 1.5447 - val_acc: 0.4635 - val_mse: 0.0812\n",
            "Epoch 30/50\n",
            "375/375 [==============================] - 184s 490ms/step - loss: 0.2923 - acc: 0.9638 - mse: 0.0068 - val_loss: 1.4792 - val_acc: 0.4948 - val_mse: 0.0780\n",
            "Epoch 31/50\n",
            "375/375 [==============================] - 185s 494ms/step - loss: 0.2931 - acc: 0.9636 - mse: 0.0069 - val_loss: 1.4958 - val_acc: 0.5104 - val_mse: 0.0779\n",
            "Epoch 32/50\n",
            "375/375 [==============================] - 183s 489ms/step - loss: 0.2925 - acc: 0.9643 - mse: 0.0068 - val_loss: 1.5062 - val_acc: 0.4948 - val_mse: 0.0789\n",
            "Epoch 33/50\n",
            "375/375 [==============================] - 184s 489ms/step - loss: 0.2911 - acc: 0.9643 - mse: 0.0068 - val_loss: 1.4981 - val_acc: 0.5052 - val_mse: 0.0786\n",
            "Epoch 34/50\n",
            "375/375 [==============================] - 184s 489ms/step - loss: 0.2929 - acc: 0.9633 - mse: 0.0069 - val_loss: 1.4848 - val_acc: 0.5104 - val_mse: 0.0781\n",
            "\n",
            "Epoch 00034: ReduceLROnPlateau reducing learning rate to 1.0000001111620805e-07.\n",
            "Epoch 35/50\n",
            "375/375 [==============================] - 185s 493ms/step - loss: 0.2904 - acc: 0.9641 - mse: 0.0068 - val_loss: 1.4581 - val_acc: 0.5260 - val_mse: 0.0758\n",
            "Epoch 36/50\n",
            "375/375 [==============================] - 184s 489ms/step - loss: 0.2908 - acc: 0.9643 - mse: 0.0069 - val_loss: 1.4924 - val_acc: 0.5104 - val_mse: 0.0780\n",
            "Epoch 37/50\n",
            "375/375 [==============================] - 184s 489ms/step - loss: 0.2901 - acc: 0.9640 - mse: 0.0068 - val_loss: 1.4619 - val_acc: 0.5156 - val_mse: 0.0767\n",
            "Epoch 38/50\n",
            "375/375 [==============================] - 184s 489ms/step - loss: 0.2903 - acc: 0.9647 - mse: 0.0068 - val_loss: 1.5106 - val_acc: 0.4896 - val_mse: 0.0793\n",
            "Epoch 39/50\n",
            "375/375 [==============================] - 183s 489ms/step - loss: 0.2907 - acc: 0.9643 - mse: 0.0069 - val_loss: 1.4879 - val_acc: 0.5104 - val_mse: 0.0777\n",
            "\n",
            "Epoch 00039: ReduceLROnPlateau reducing learning rate to 1.000000082740371e-08.\n",
            "Epoch 40/50\n",
            "375/375 [==============================] - 187s 498ms/step - loss: 0.2898 - acc: 0.9640 - mse: 0.0068 - val_loss: 1.4675 - val_acc: 0.5052 - val_mse: 0.0769\n",
            "Epoch 41/50\n",
            "375/375 [==============================] - 184s 491ms/step - loss: 0.2919 - acc: 0.9633 - mse: 0.0069 - val_loss: 1.4656 - val_acc: 0.5208 - val_mse: 0.0768\n",
            "Epoch 42/50\n",
            "375/375 [==============================] - 184s 491ms/step - loss: 0.2898 - acc: 0.9641 - mse: 0.0068 - val_loss: 1.4896 - val_acc: 0.5052 - val_mse: 0.0780\n",
            "Epoch 43/50\n",
            "375/375 [==============================] - 184s 490ms/step - loss: 0.2907 - acc: 0.9638 - mse: 0.0069 - val_loss: 1.4396 - val_acc: 0.5156 - val_mse: 0.0765\n",
            "Epoch 44/50\n",
            "375/375 [==============================] - 184s 490ms/step - loss: 0.2903 - acc: 0.9638 - mse: 0.0068 - val_loss: 1.4762 - val_acc: 0.5000 - val_mse: 0.0776\n",
            "Epoch 45/50\n",
            "375/375 [==============================] - 183s 489ms/step - loss: 0.2907 - acc: 0.9642 - mse: 0.0069 - val_loss: 1.4946 - val_acc: 0.5000 - val_mse: 0.0784\n",
            "Epoch 46/50\n",
            "375/375 [==============================] - 184s 489ms/step - loss: 0.2899 - acc: 0.9640 - mse: 0.0068 - val_loss: 1.4480 - val_acc: 0.5104 - val_mse: 0.0765\n",
            "Epoch 47/50\n",
            "375/375 [==============================] - 183s 489ms/step - loss: 0.2897 - acc: 0.9640 - mse: 0.0068 - val_loss: 1.4929 - val_acc: 0.5052 - val_mse: 0.0783\n",
            "\n",
            "Epoch 00047: ReduceLROnPlateau reducing learning rate to 1.000000082740371e-09.\n",
            "Epoch 48/50\n",
            "375/375 [==============================] - 183s 488ms/step - loss: 0.2897 - acc: 0.9641 - mse: 0.0068 - val_loss: 1.4737 - val_acc: 0.5104 - val_mse: 0.0775\n",
            "Epoch 49/50\n",
            "375/375 [==============================] - 183s 488ms/step - loss: 0.2896 - acc: 0.9643 - mse: 0.0068 - val_loss: 1.5041 - val_acc: 0.5052 - val_mse: 0.0788\n",
            "Epoch 50/50\n",
            "375/375 [==============================] - 183s 488ms/step - loss: 0.2905 - acc: 0.9644 - mse: 0.0068 - val_loss: 1.4945 - val_acc: 0.5000 - val_mse: 0.0782\n"
          ],
          "name": "stdout"
        }
      ]
    },
    {
      "cell_type": "code",
      "metadata": {
        "id": "LV6hsG7RFM1n"
      },
      "source": [
        "#model.save('Densenetmodel.h5')\n",
        "model.save('/content/gdrive/MyDrive/racedata/DenseNetmodel.h5')"
      ],
      "execution_count": null,
      "outputs": []
    },
    {
      "cell_type": "code",
      "metadata": {
        "colab": {
          "base_uri": "https://localhost:8080/",
          "height": 791
        },
        "id": "xUlhJrQ_4nmy",
        "outputId": "4b86e39e-bd95-4ca0-d68d-98ebf670747e"
      },
      "source": [
        "import matplotlib.pyplot as plt\n",
        "import numpy as np # linear algebra\n",
        "import pandas as pd \n",
        "plt.figure(0)\n",
        "plt.plot(model_history.history['acc'],'r')\n",
        "plt.plot(model_history.history['val_acc'],'g')\n",
        "plt.xticks(np.arange(0, 20, 1.0))\n",
        "plt.rcParams['figure.figsize'] = (8, 6)\n",
        "plt.xlabel(\"Num of Epochs\")\n",
        "plt.ylabel(\"Accuracy\")\n",
        "plt.title(\"Training Accuracy vs Validation Accuracy\")\n",
        "plt.legend(['train','validation'])\n",
        "\n",
        "plt.figure(1)\n",
        "plt.plot(model_history.history['loss'],'r')\n",
        "plt.plot(model_history.history['val_loss'],'g')\n",
        "plt.xticks(np.arange(0, 20, 1.0))\n",
        "plt.rcParams['figure.figsize'] = (8, 6)\n",
        "plt.xlabel(\"Num of Epochs\")\n",
        "plt.ylabel(\"Loss\")\n",
        "plt.title(\"Training Loss vs Validation Loss\")\n",
        "plt.legend(['train','validation'])\n",
        "\n",
        "plt.show()"
      ],
      "execution_count": null,
      "outputs": [
        {
          "output_type": "display_data",
          "data": {
            "image/png": "[encoded data removed]",
            "text/plain": [
              "<Figure size 576x432 with 1 Axes>"
            ]
          },
          "metadata": {
            "tags": [],
            "needs_background": "light"
          }
        },
        {
          "output_type": "display_data",
          "data": {
            "image/png": "[encoded data removed]",
            "text/plain": [
              "<Figure size 576x432 with 1 Axes>"
            ]
          },
          "metadata": {
            "tags": [],
            "needs_background": "light"
          }
        }
      ]
    },
    {
      "cell_type": "code",
      "metadata": {
        "colab": {
          "base_uri": "https://localhost:8080/"
        },
        "id": "6TcPlITMD9Sh",
        "outputId": "b2f9aa2d-24b6-49b1-c6f8-016b4a1f847b"
      },
      "source": [
        "model.evaluate_generator(validation_generator, steps=None, max_queue_size=10, workers=1, use_multiprocessing=False)"
      ],
      "execution_count": null,
      "outputs": [
        {
          "output_type": "stream",
          "text": [
            "/usr/local/lib/python3.7/dist-packages/keras/engine/training.py:2006: UserWarning: `Model.evaluate_generator` is deprecated and will be removed in a future version. Please use `Model.evaluate`, which supports generators.\n",
            "  warnings.warn('`Model.evaluate_generator` is deprecated and '\n"
          ],
          "name": "stderr"
        },
        {
          "output_type": "execute_result",
          "data": {
            "text/plain": [
              "[1.490088701248169, 0.5049999952316284, 0.0781884491443634]"
            ]
          },
          "metadata": {
            "tags": []
          },
          "execution_count": 16
        }
      ]
    },
    {
      "cell_type": "code",
      "metadata": {
        "colab": {
          "base_uri": "https://localhost:8080/"
        },
        "id": "tEWkR3AHD-IX",
        "outputId": "a303f0c8-11d9-4e1d-df50-8254c8b02ea1"
      },
      "source": [
        "pred = model.predict_generator(validation_generator, steps=None, max_queue_size=10, workers=1, use_multiprocessing=False, verbose=1)\n",
        "predicted = np.argmax(pred, axis=1)"
      ],
      "execution_count": null,
      "outputs": [
        {
          "output_type": "stream",
          "text": [
            "/usr/local/lib/python3.7/dist-packages/keras/engine/training.py:2035: UserWarning: `Model.predict_generator` is deprecated and will be removed in a future version. Please use `Model.predict`, which supports generators.\n",
            "  warnings.warn('`Model.predict_generator` is deprecated and '\n"
          ],
          "name": "stderr"
        },
        {
          "output_type": "stream",
          "text": [
            "7/7 [==============================] - 2s 88ms/step\n"
          ],
          "name": "stdout"
        }
      ]
    },
    {
      "cell_type": "code",
      "metadata": {
        "id": "vYsXAuJp6u_H"
      },
      "source": [
        "import tensorflow as tf\n",
        "model = tf.keras.models.load_model('/content/gdrive/MyDrive/racedata/DenseNetmodel.h5')"
      ],
      "execution_count": 7,
      "outputs": []
    },
    {
      "cell_type": "code",
      "metadata": {
        "colab": {
          "base_uri": "https://localhost:8080/",
          "height": 439
        },
        "id": "_but0rVf6Hfp",
        "outputId": "e367e791-07b2-4f1b-f27a-225fa09f05f1"
      },
      "source": [
        "import numpy as np\n",
        "import seaborn as sns\n",
        "pred = model.predict(validation_generator)\n",
        "pred=np.argmax(pred,axis=1)\n",
        "pred_df=df2.copy()\n",
        "labels={}\n",
        "for l,v in validation_generator.class_indices.items():\n",
        "    print(l)\n",
        "    labels.update({v:l})\n",
        "pred_df['pred']=pred\n",
        "pred_df['pred']=pred_df['pred'].apply(lambda x: labels[x])\n",
        "    \n",
        "from sklearn.metrics import confusion_matrix, classification_report, accuracy_score\n",
        "print(f\"Accuracy Score: {accuracy_score(pred_df['label'],pred_df['pred'])}\")\n",
        "sns.heatmap(confusion_matrix(pred_df['label'],pred_df['pred']), annot=True, fmt='2d')"
      ],
      "execution_count": 25,
      "outputs": [
        {
          "output_type": "stream",
          "text": [
            "0\n",
            "1\n",
            "2\n",
            "3\n",
            "4\n",
            "5\n",
            "6\n",
            "7\n",
            "Accuracy Score: 0.31\n"
          ],
          "name": "stdout"
        },
        {
          "output_type": "execute_result",
          "data": {
            "text/plain": [
              "<matplotlib.axes._subplots.AxesSubplot at 0x7f64709f7b50>"
            ]
          },
          "metadata": {},
          "execution_count": 25
        },
        {
          "output_type": "display_data",
          "data": {
            "image/png": "[encoded data removed]",
            "text/plain": [
              "<Figure size 432x288 with 2 Axes>"
            ]
          },
          "metadata": {
            "needs_background": "light"
          }
        }
      ]
    },
    {
      "cell_type": "code",
      "metadata": {
        "colab": {
          "base_uri": "https://localhost:8080/"
        },
        "id": "vlLjc8q5-d7L",
        "outputId": "913173a9-bee0-4a38-8b24-b7f3120aaa99"
      },
      "source": [
        "import os\n",
        "import pandas as pd\n",
        "dir = \"/content/gdrive/MyDrive/racedata/LiteonRacingData/B/\"\n",
        "label = []\n",
        "path = []\n",
        "for dirname, _,filenames in os.walk(dir):\n",
        "    for filename in filenames:\n",
        "        #print(filename)\n",
        "        if os.path.splitext(filename)[1]=='.png':\n",
        "            if dirname.split()[-1]!='GT':\n",
        "                #print(os.path.split(dirname))\n",
        "                label.append(os.path.split(dirname)[1][0])\n",
        "                path.append(os.path.join(dirname,filename))\n",
        "                print(os.path.join(dirname,filename))\n",
        "df2 = pd.DataFrame(columns = ['path','label'])\n",
        "df2['path'] = path\n",
        "df2['label'] = label"
      ],
      "execution_count": 21,
      "outputs": [
        {
          "output_type": "stream",
          "text": [
            "/content/gdrive/MyDrive/racedata/LiteonRacingData/B/1/20190816145757_R116.png\n",
            "/content/gdrive/MyDrive/racedata/LiteonRacingData/B/1/20190816145757_R2362.png\n",
            "/content/gdrive/MyDrive/racedata/LiteonRacingData/B/1/20190816170639_R59.png\n",
            "/content/gdrive/MyDrive/racedata/LiteonRacingData/B/1/20200316094821_200265880400533_OR7_1_view69.png\n",
            "/content/gdrive/MyDrive/racedata/LiteonRacingData/B/1/20200316100022_200265880400788_XR20_1_view20.png\n",
            "/content/gdrive/MyDrive/racedata/LiteonRacingData/B/1/20200322181650_A6521L3K01269_R43_1_view9.png\n",
            "/content/gdrive/MyDrive/racedata/LiteonRacingData/B/1/20200224193213_R1031_1.png\n",
            "/content/gdrive/MyDrive/racedata/LiteonRacingData/B/1/20200228092633_OR8081_1.png\n",
            "/content/gdrive/MyDrive/racedata/LiteonRacingData/B/1/20200314202325_200366067100021_PR1077_1_view65.png\n",
            "/content/gdrive/MyDrive/racedata/LiteonRacingData/B/1/20200314194603_200366067100405_O2R58_1_view50.png\n",
            "/content/gdrive/MyDrive/racedata/LiteonRacingData/B/5/20191115142401_8SSB20N60289H1DG9BC07AA_R8_1_view10.png\n",
            "/content/gdrive/MyDrive/racedata/LiteonRacingData/B/5/20191115142401_8SSB20N60289H1DG9BC07AA_R17_1_view9.png\n",
            "/content/gdrive/MyDrive/racedata/LiteonRacingData/B/5/20191113235753_8SSB20N60289H1DG9B901VA_R723_1_view12.png\n",
            "/content/gdrive/MyDrive/racedata/LiteonRacingData/B/5/20200224210526_R377_1.png\n",
            "/content/gdrive/MyDrive/racedata/LiteonRacingData/B/5/20200224221944_R130_1.png\n",
            "/content/gdrive/MyDrive/racedata/LiteonRacingData/B/5/20200224212137_R365_1.png\n",
            "/content/gdrive/MyDrive/racedata/LiteonRacingData/B/5/20200306083526_AR29_1.png\n",
            "/content/gdrive/MyDrive/racedata/LiteonRacingData/B/5/20200322234910_8SSB20N60232H2DG03L04Y9_SR201_1_view28.png\n",
            "/content/gdrive/MyDrive/racedata/LiteonRacingData/B/5/20200328082248_8SSB20N60232H2DG03S01DH_R29_1_view33.png\n",
            "/content/gdrive/MyDrive/racedata/LiteonRacingData/B/5/20190909223423_R723.png\n",
            "/content/gdrive/MyDrive/racedata/LiteonRacingData/B/7/20190915184227_8SSB20N60289H1DG99A02DM_R323_1_S.png\n",
            "/content/gdrive/MyDrive/racedata/LiteonRacingData/B/7/20190914192130_8SSB20N60289H1DG99A058N_R306_1_S.png\n",
            "/content/gdrive/MyDrive/racedata/LiteonRacingData/B/7/20200316123624_200265880400880_CFR31_1_view55.png\n",
            "/content/gdrive/MyDrive/racedata/LiteonRacingData/B/7/20200316145249_200265880400808_GR18_1_view47.png\n",
            "/content/gdrive/MyDrive/racedata/LiteonRacingData/B/7/20200319135516_200366305100243_PR2220_1_view72.png\n",
            "/content/gdrive/MyDrive/racedata/LiteonRacingData/B/7/20200316123842_200265880400520_CFR24_1_view21.png\n",
            "/content/gdrive/MyDrive/racedata/LiteonRacingData/B/7/20200321163309_200366306901126_SR1895_1_view47.png\n",
            "/content/gdrive/MyDrive/racedata/LiteonRacingData/B/7/20200323030939_200366305200465_PR3019_1_view31.png\n",
            "/content/gdrive/MyDrive/racedata/LiteonRacingData/B/7/20200314043535_8SSB20N60248H1DG03900D9_R777_1_view16.png\n",
            "/content/gdrive/MyDrive/racedata/LiteonRacingData/B/7/20200320090424_200366306100002_OR202_1_view46.png\n",
            "/content/gdrive/MyDrive/racedata/LiteonRacingData/B/6/20200325172518_200366930900172_O2R210_1_view80.png\n",
            "/content/gdrive/MyDrive/racedata/LiteonRacingData/B/6/20200325214403_200366930900490_SR122_1_view23.png\n",
            "/content/gdrive/MyDrive/racedata/LiteonRacingData/B/6/20200325220517_200366930900464_O3R16_1_view83.png\n",
            "/content/gdrive/MyDrive/racedata/LiteonRacingData/B/6/20200325221228_200366930900509_SR1642_1_view78.png\n",
            "/content/gdrive/MyDrive/racedata/LiteonRacingData/B/6/20200321080752_200366306900401_D4R5_1_view8.png\n",
            "/content/gdrive/MyDrive/racedata/LiteonRacingData/B/6/20200320184238_200366306400340_PR758_1_view31.png\n",
            "/content/gdrive/MyDrive/racedata/LiteonRacingData/B/6/20200320190247_200366306400322_U31R65_1_view57.png\n",
            "/content/gdrive/MyDrive/racedata/LiteonRacingData/B/6/20200325053935_200366930800382_L1R16_1_view42.png\n",
            "/content/gdrive/MyDrive/racedata/LiteonRacingData/B/6/20200330112951_8SSB20N60232H2DG03V035L_R110_1_view46.png\n",
            "/content/gdrive/MyDrive/racedata/LiteonRacingData/B/6/20190826114059_R291.png\n",
            "/content/gdrive/MyDrive/racedata/LiteonRacingData/B/0/20190825134255_R217.png\n",
            "/content/gdrive/MyDrive/racedata/LiteonRacingData/B/0/20190825130045_R1737.png\n",
            "/content/gdrive/MyDrive/racedata/LiteonRacingData/B/0/20190825045706_R69.png\n",
            "/content/gdrive/MyDrive/racedata/LiteonRacingData/B/0/20190825232409_R217.png\n",
            "/content/gdrive/MyDrive/racedata/LiteonRacingData/B/0/20190826012248_R217.png\n",
            "/content/gdrive/MyDrive/racedata/LiteonRacingData/B/0/20190825193252_R805.png\n",
            "/content/gdrive/MyDrive/racedata/LiteonRacingData/B/0/20190826015051_R217.png\n",
            "/content/gdrive/MyDrive/racedata/LiteonRacingData/B/0/20190830205243_R217.png\n",
            "/content/gdrive/MyDrive/racedata/LiteonRacingData/B/0/20190816114533_R936.png\n",
            "/content/gdrive/MyDrive/racedata/LiteonRacingData/B/0/20190816144353_R936.png\n",
            "/content/gdrive/MyDrive/racedata/LiteonRacingData/B/0/20190816120511_R936.png\n",
            "/content/gdrive/MyDrive/racedata/LiteonRacingData/B/0/20190816115715_R936.png\n",
            "/content/gdrive/MyDrive/racedata/LiteonRacingData/B/0/20190817084529_R428.png\n",
            "/content/gdrive/MyDrive/racedata/LiteonRacingData/B/0/20190817185257_R428.png\n",
            "/content/gdrive/MyDrive/racedata/LiteonRacingData/B/0/20190821053211_R526.png\n",
            "/content/gdrive/MyDrive/racedata/LiteonRacingData/B/0/20190821110438_R2229.png\n",
            "/content/gdrive/MyDrive/racedata/LiteonRacingData/B/0/20191114131114_8SSB20N60289H1DG9B9007Y_R854_1_view50.png\n",
            "/content/gdrive/MyDrive/racedata/LiteonRacingData/B/0/20191110044457_8SSB20N60287H1DG9B6032R_R1720_1_view48.png\n",
            "/content/gdrive/MyDrive/racedata/LiteonRacingData/B/0/20191113232255_8SSB20N60289H1DG9B901XG_R1736_1_view9.png\n",
            "/content/gdrive/MyDrive/racedata/LiteonRacingData/B/0/20191110050743_8SSB20N60287H1DG9B60313_R1950_1_view51.png\n",
            "/content/gdrive/MyDrive/racedata/LiteonRacingData/B/0/20200222004935_R970_1.png\n",
            "/content/gdrive/MyDrive/racedata/LiteonRacingData/B/0/20200222080534_R970_1.png\n",
            "/content/gdrive/MyDrive/racedata/LiteonRacingData/B/0/20200223011255_R971_1.png\n",
            "/content/gdrive/MyDrive/racedata/LiteonRacingData/B/0/20200223150214_R853_1.png\n",
            "/content/gdrive/MyDrive/racedata/LiteonRacingData/B/0/20200225000523_R431_1.png\n",
            "/content/gdrive/MyDrive/racedata/LiteonRacingData/B/0/20200225005945_R546_1.png\n",
            "/content/gdrive/MyDrive/racedata/LiteonRacingData/B/0/20200225015327_R431_1.png\n",
            "/content/gdrive/MyDrive/racedata/LiteonRacingData/B/0/20200225024705_R431_1.png\n",
            "/content/gdrive/MyDrive/racedata/LiteonRacingData/B/0/20200225025121_R431_1.png\n",
            "/content/gdrive/MyDrive/racedata/LiteonRacingData/B/0/20200225035721_R1013_1.png\n",
            "/content/gdrive/MyDrive/racedata/LiteonRacingData/B/0/20200225044554_R431_1.png\n",
            "/content/gdrive/MyDrive/racedata/LiteonRacingData/B/0/20200225044813_R431_1.png\n",
            "/content/gdrive/MyDrive/racedata/LiteonRacingData/B/0/20200225043223_R431_1.png\n",
            "/content/gdrive/MyDrive/racedata/LiteonRacingData/B/0/20200225050544_R129_1.png\n",
            "/content/gdrive/MyDrive/racedata/LiteonRacingData/B/0/20200225045347_R431_1.png\n",
            "/content/gdrive/MyDrive/racedata/LiteonRacingData/B/0/20191111013422_8SSB20N60287H1DG9B600EK_R723_1_view46.png\n",
            "/content/gdrive/MyDrive/racedata/LiteonRacingData/B/0/20191113020902_8SSB20N60289H1DG9B904H6_R723_1_view12.png\n",
            "/content/gdrive/MyDrive/racedata/LiteonRacingData/B/0/20200222044818_R970_1.png\n",
            "/content/gdrive/MyDrive/racedata/LiteonRacingData/B/0/20200222020319_R970_1.png\n",
            "/content/gdrive/MyDrive/racedata/LiteonRacingData/B/0/20200222050333_R970_1.png\n",
            "/content/gdrive/MyDrive/racedata/LiteonRacingData/B/0/20200222052836_R970_1.png\n",
            "/content/gdrive/MyDrive/racedata/LiteonRacingData/B/0/20200224000850_R970_1.png\n",
            "/content/gdrive/MyDrive/racedata/LiteonRacingData/B/0/20200224001625_R970_1.png\n",
            "/content/gdrive/MyDrive/racedata/LiteonRacingData/B/0/20200223224030_R970_1.png\n",
            "/content/gdrive/MyDrive/racedata/LiteonRacingData/B/0/20190825031743_R624.png\n",
            "/content/gdrive/MyDrive/racedata/LiteonRacingData/B/0/20190901141845_R994.png\n",
            "/content/gdrive/MyDrive/racedata/LiteonRacingData/B/0/20190901132400_R981.png\n",
            "/content/gdrive/MyDrive/racedata/LiteonRacingData/B/0/20190901181155_R994.png\n",
            "/content/gdrive/MyDrive/racedata/LiteonRacingData/B/0/20200225020710_R127_1.png\n",
            "/content/gdrive/MyDrive/racedata/LiteonRacingData/B/0/20200225050200_R128_1.png\n",
            "/content/gdrive/MyDrive/racedata/LiteonRacingData/B/0/20191111193431_8SSB20N60289H1DG9B9086G_R723_1_view12.png\n",
            "/content/gdrive/MyDrive/racedata/LiteonRacingData/B/0/20200422002503_8SSB20N60289H1DG04J059H_R7_1_view10.png\n",
            "/content/gdrive/MyDrive/racedata/LiteonRacingData/B/0/20200422000919_8SSB20N60289H1DG04J05AT_R39_1_view68.png\n",
            "/content/gdrive/MyDrive/racedata/LiteonRacingData/B/0/20200422003311_8SSB20N60289H1DG04J0592_R307_1_view5.png\n",
            "/content/gdrive/MyDrive/racedata/LiteonRacingData/B/0/20200422022454_8SSB20N60289H1DG04J051E_R41_1_view17.png\n",
            "/content/gdrive/MyDrive/racedata/LiteonRacingData/B/0/20200422041923_8SSB20N60289H1DG04J04RY_R813_1_view9.png\n",
            "/content/gdrive/MyDrive/racedata/LiteonRacingData/B/0/20200422014820_8SSB20N60289H1DG04J053X_R39_1_view68.png\n",
            "/content/gdrive/MyDrive/racedata/LiteonRacingData/B/0/20200422043838_8SSB20N60289H1DG04J04PB_R485_1_view27.png\n",
            "/content/gdrive/MyDrive/racedata/LiteonRacingData/B/0/20200422035216_8SSB20N60289H1DG04J04TR_R539_1_view28.png\n",
            "/content/gdrive/MyDrive/racedata/LiteonRacingData/B/0/20200422023902_8SSB20N60289H1DG04J0506_R732_1_view57.png\n",
            "/content/gdrive/MyDrive/racedata/LiteonRacingData/B/0/20200422043558_8SSB20N60289H1DG04J04PH_R39_1_view68.png\n",
            "/content/gdrive/MyDrive/racedata/LiteonRacingData/B/0/20200422041945_8SSB20N60289H1DG04J04RX_R39_1_view68.png\n",
            "/content/gdrive/MyDrive/racedata/LiteonRacingData/B/0/20200422010502_8SSB20N60289H1DG04J056S_R2064_1_view7.png\n",
            "/content/gdrive/MyDrive/racedata/LiteonRacingData/B/0/20200422015924_8SSB20N60289H1DG04J0536_R39_1_view68.png\n",
            "/content/gdrive/MyDrive/racedata/LiteonRacingData/B/0/20200422004415_8SSB20N60289H1DG04J0588_R553_1_view28.png\n",
            "/content/gdrive/MyDrive/racedata/LiteonRacingData/B/0/20200422020052_8SSB20N60289H1DG04J0534_R192_1_view13.png\n",
            "/content/gdrive/MyDrive/racedata/LiteonRacingData/B/0/20200422042704_8SSB20N60289H1DG04J04R9_R39_1_view68.png\n",
            "/content/gdrive/MyDrive/racedata/LiteonRacingData/B/0/20200422063334_8SSB20N60289H1DG04J04F6_R7_1_view10.png\n",
            "/content/gdrive/MyDrive/racedata/LiteonRacingData/B/0/20200422061722_8SSB20N60289H1DG04J04FY_R39_1_view68.png\n",
            "/content/gdrive/MyDrive/racedata/LiteonRacingData/B/0/20200422125142_8SSB20N60289H1DG04J03PE_R39_1_view68.png\n",
            "/content/gdrive/MyDrive/racedata/LiteonRacingData/B/0/20200422082201_8SSB20N60289H1DG04J049W_R968_1_view58.png\n",
            "/content/gdrive/MyDrive/racedata/LiteonRacingData/B/0/20200422082416_8SSB20N60289H1DG04J049P_R947_1_view65.png\n",
            "/content/gdrive/MyDrive/racedata/LiteonRacingData/B/0/20200422082837_8SSB20N60289H1DG04J049A_R39_1_view68.png\n",
            "/content/gdrive/MyDrive/racedata/LiteonRacingData/B/0/20200422051025_8SSB20N60289H1DG04J04M0_R39_1_view68.png\n",
            "/content/gdrive/MyDrive/racedata/LiteonRacingData/B/0/20200422083606_8SSB20N60289H1DG04J048R_R39_1_view68.png\n",
            "/content/gdrive/MyDrive/racedata/LiteonRacingData/B/0/20200422140923_8SSB20N60289H1DG04J03JB_R39_1_view68.png\n",
            "/content/gdrive/MyDrive/racedata/LiteonRacingData/B/0/20200422081506_8SSB20N60289H1DG04J04A8_R39_1_view68.png\n",
            "/content/gdrive/MyDrive/racedata/LiteonRacingData/B/0/20200422055923_8SSB20N60289H1DG04J04H8_R39_1_view68.png\n",
            "/content/gdrive/MyDrive/racedata/LiteonRacingData/B/0/20200422044742_8SSB20N60289H1DG04J04NP_R39_1_view68.png\n",
            "/content/gdrive/MyDrive/racedata/LiteonRacingData/B/0/20200422070709_8SSB20N60289H1DG04J04CZ_R947_1_view65.png\n",
            "/content/gdrive/MyDrive/racedata/LiteonRacingData/B/0/20200422044133_8SSB20N60289H1DG04J04P4_R7_1_view10.png\n",
            "/content/gdrive/MyDrive/racedata/LiteonRacingData/B/0/20200422063834_8SSB20N60289H1DG04J04EP_R48_1_view68.png\n",
            "/content/gdrive/MyDrive/racedata/LiteonRacingData/B/0/20200422050525_8SSB20N60289H1DG04J04MC_R806_1_view65.png\n",
            "/content/gdrive/MyDrive/racedata/LiteonRacingData/B/0/20200422052301_8SSB20N60289H1DG04J04L4_R308_1_view6.png\n",
            "/content/gdrive/MyDrive/racedata/LiteonRacingData/B/0/20200422052419_8SSB20N60289H1DG04J04L1_R553_1_view28.png\n",
            "/content/gdrive/MyDrive/racedata/LiteonRacingData/B/0/20200422052301_8SSB20N60289H1DG04J04L4_R39_1_view68.png\n",
            "/content/gdrive/MyDrive/racedata/LiteonRacingData/B/0/20200422064244_8SSB20N60289H1DG04J04EE_R668_1_view59.png\n",
            "/content/gdrive/MyDrive/racedata/LiteonRacingData/B/0/20200422052803_8SSB20N60289H1DG04J04KP_R39_1_view68.png\n",
            "/content/gdrive/MyDrive/racedata/LiteonRacingData/B/0/20200422050706_8SSB20N60289H1DG04J04M8_R7_1_view10.png\n",
            "/content/gdrive/MyDrive/racedata/LiteonRacingData/B/0/20200422072010_8SSB20N60289H1DG04J04BW_R39_1_view68.png\n",
            "/content/gdrive/MyDrive/racedata/LiteonRacingData/B/0/20200422092202_8SSB20N60289H1DG04J045E_R565_1_view68.png\n",
            "/content/gdrive/MyDrive/racedata/LiteonRacingData/B/0/20200504161254_8SSB20N60289H1DG04T01GL_R826_1_view50.png\n",
            "/content/gdrive/MyDrive/racedata/LiteonRacingData/B/0/20200504202249_8SSB20N60289H1DG04T012G_R826_1_view50.png\n",
            "/content/gdrive/MyDrive/racedata/LiteonRacingData/B/0/20200504134819_8SSB20N60289H1DG04T01TY_R1255_1_view50.png\n",
            "/content/gdrive/MyDrive/racedata/LiteonRacingData/B/0/20200504135113_8SSB20N60289H1DG04T01XJ_R278_1_view14.png\n",
            "/content/gdrive/MyDrive/racedata/LiteonRacingData/B/0/20200504135113_8SSB20N60289H1DG04T01XJ_R318_1_view28.png\n",
            "/content/gdrive/MyDrive/racedata/LiteonRacingData/B/0/20200504201737_8SSB20N60289H1DG04T012Y_R779_1_view60.png\n",
            "/content/gdrive/MyDrive/racedata/LiteonRacingData/B/0/20200504150301_8SSB20N60289H1DG04T01MP_R2183_1_view50.png\n",
            "/content/gdrive/MyDrive/racedata/LiteonRacingData/B/0/20200504230945_8SSB20N60289H1DG04T00S6_R988_1_view51.png\n",
            "/content/gdrive/MyDrive/racedata/LiteonRacingData/B/0/20200504184634_8SSB20N60289H1DG04T016B_R826_1_view50.png\n",
            "/content/gdrive/MyDrive/racedata/LiteonRacingData/B/0/20200504110839_8SSB20N60289H1DG04T0258_R1841_1_view50.png\n",
            "/content/gdrive/MyDrive/racedata/LiteonRacingData/B/0/20200504190523_8SSB20N60289H1DG04T014Z_R988_1_view51.png\n",
            "/content/gdrive/MyDrive/racedata/LiteonRacingData/B/0/20200504134234_8SSB20N60289H1DG04T01W0_R1040_1_view51.png\n",
            "/content/gdrive/MyDrive/racedata/LiteonRacingData/B/0/20200504203519_8SSB20N60289H1DG04T011R_R936_1_view50.png\n",
            "/content/gdrive/MyDrive/racedata/LiteonRacingData/B/0/20200504124937_8SSB20N60289H1DG04T01YR_R2183_1_view50.png\n",
            "/content/gdrive/MyDrive/racedata/LiteonRacingData/B/0/20200504131908_8SSB20N60289H1DG04T01X1_R349_1_view13.png\n",
            "/content/gdrive/MyDrive/racedata/LiteonRacingData/B/0/20200504115757_8SSB20N60289H1DG04T0224_R2238_1_view50.png\n",
            "/content/gdrive/MyDrive/racedata/LiteonRacingData/B/0/20200504150301_8SSB20N60289H1DG04T01MP_R2009_1_view53.png\n",
            "/content/gdrive/MyDrive/racedata/LiteonRacingData/B/0/20200504143807_8SSB20N60289H1DG04T01PF_R826_1_view50.png\n",
            "/content/gdrive/MyDrive/racedata/LiteonRacingData/B/0/20200504205036_8SSB20N60522H1DG053002F_R545_1_view27.png\n",
            "/content/gdrive/MyDrive/racedata/LiteonRacingData/B/0/20200504205443_8SSB20N60522H1DG053001H_R301_1_view49.png\n",
            "/content/gdrive/MyDrive/racedata/LiteonRacingData/B/0/20200504205443_8SSB20N60522H1DG053001H_R521_1_view26.png\n",
            "/content/gdrive/MyDrive/racedata/LiteonRacingData/B/0/20200504213039_8SSB20N60522H1DG05300N7_R849_1_view15.png\n",
            "/content/gdrive/MyDrive/racedata/LiteonRacingData/B/0/20200504213101_8SSB20N60522H1DG05300H7_R489_1_view30.png\n",
            "/content/gdrive/MyDrive/racedata/LiteonRacingData/B/0/20200504184647_8SSB20N60522H1DG05300FJ_R712_1_view23.png\n",
            "/content/gdrive/MyDrive/racedata/LiteonRacingData/B/0/20200504214340_8SSB20N60522H1DG05300XG_R954_1_view13.png\n",
            "/content/gdrive/MyDrive/racedata/LiteonRacingData/B/0/20200504223628_8SSB20N60522H1DG05300H0_R306_1_view32.png\n",
            "/content/gdrive/MyDrive/racedata/LiteonRacingData/B/0/20200504135248_8SSB20N60522H1DG053010C_R424_1_view62.png\n",
            "/content/gdrive/MyDrive/racedata/LiteonRacingData/B/0/20200504165055_8SSB20N60522H1DG05300P8_R524_1_view26.png\n",
            "/content/gdrive/MyDrive/racedata/LiteonRacingData/B/0/20200504155617_8SSB20N60522H1DG05300T4_R178_1_view38.png\n",
            "/content/gdrive/MyDrive/racedata/LiteonRacingData/B/0/20200504124805_8SSB20N60522H1DG053014W_R861_1_view10.png\n",
            "/content/gdrive/MyDrive/racedata/LiteonRacingData/B/0/20200504122356_8SSB20N60522H1DG0530158_R16_1_view45.png\n",
            "/content/gdrive/MyDrive/racedata/LiteonRacingData/B/0/20200504122356_8SSB20N60522H1DG0530158_R669_1_view20.png\n",
            "/content/gdrive/MyDrive/racedata/LiteonRacingData/B/0/20200504182011_8SSB20N60522H1DG05300HC_R424_1_view62.png\n",
            "/content/gdrive/MyDrive/racedata/LiteonRacingData/B/0/20200504164649_8SSB20N60522H1DG05300PG_R187_1_view42.png\n",
            "/content/gdrive/MyDrive/racedata/LiteonRacingData/B/0/20200509091614_200468495502588_6CR80_1_view59.png\n",
            "/content/gdrive/MyDrive/racedata/LiteonRacingData/B/0/20190904063111_R26.png\n",
            "/content/gdrive/MyDrive/racedata/LiteonRacingData/B/0/20200701154901_8SSB20N60112H1DG06Y08JL_R995_1_view45.png\n",
            "/content/gdrive/MyDrive/racedata/LiteonRacingData/B/0/20200701154618_8SSB20N60112H1DG06Y08JV_R995_1_view45.png\n",
            "/content/gdrive/MyDrive/racedata/LiteonRacingData/B/0/20210323083118-R62-1.png\n",
            "/content/gdrive/MyDrive/racedata/LiteonRacingData/B/2/20200306083638_PR758_1.png\n",
            "/content/gdrive/MyDrive/racedata/LiteonRacingData/B/2/20200306100401_U27R1_1.png\n",
            "/content/gdrive/MyDrive/racedata/LiteonRacingData/B/2/20200313023507_8SSB20N60248H1DG0390298_R339_1_view37.png\n",
            "/content/gdrive/MyDrive/racedata/LiteonRacingData/B/2/20200313191512_8SSB20N60248H1DG039014W_R701_1_view33.png\n",
            "/content/gdrive/MyDrive/racedata/LiteonRacingData/B/2/20200313043840_8SSB20N60248H1DG0390234_R616_1_view25.png\n",
            "/content/gdrive/MyDrive/racedata/LiteonRacingData/B/2/20200314092746_8SSB20N60248H1DG039001F_R112_1_view14.png\n",
            "/content/gdrive/MyDrive/racedata/LiteonRacingData/B/2/20200314083032_8SSB20N60248H1DG039003N_R3376_1_view6.png\n",
            "/content/gdrive/MyDrive/racedata/LiteonRacingData/B/2/20200314174446_8SSB20N60232H2DG03A04H6_SR58_1_view26.png\n",
            "/content/gdrive/MyDrive/racedata/LiteonRacingData/B/2/20200314120854_200366064900805_O2R35_1_view58.png\n",
            "/content/gdrive/MyDrive/racedata/LiteonRacingData/B/2/20200314121343_200366064900756_SR100_1_view35.png\n",
            "/content/gdrive/MyDrive/racedata/LiteonRacingData/B/4/20190902181320_R870.png\n",
            "/content/gdrive/MyDrive/racedata/LiteonRacingData/B/4/20200226200136_PR2543_1.png\n",
            "/content/gdrive/MyDrive/racedata/LiteonRacingData/B/4/20200301142912_SR4338_1.png\n",
            "/content/gdrive/MyDrive/racedata/LiteonRacingData/B/4/20200301142843_SR4338_1.png\n",
            "/content/gdrive/MyDrive/racedata/LiteonRacingData/B/4/20200321193822_200366306901533_PR1006_1_view10.png\n",
            "/content/gdrive/MyDrive/racedata/LiteonRacingData/B/4/20200226191725_PR2543_1.png\n",
            "/content/gdrive/MyDrive/racedata/LiteonRacingData/B/4/20200325100408_8SSB20N60232H2DG03L08N4_R299_1_view40.png\n",
            "/content/gdrive/MyDrive/racedata/LiteonRacingData/B/4/20200325100809_8SSB20N60232H2DG03L08MP_R299_1_view40.png\n",
            "/content/gdrive/MyDrive/racedata/LiteonRacingData/B/4/20200325102811_8SSB20N60232H2DG03L08MC_R299_1_view40.png\n",
            "/content/gdrive/MyDrive/racedata/LiteonRacingData/B/4/20200325102746_8SSB20N60232H2DG03L08MA_R299_1_view40.png\n",
            "/content/gdrive/MyDrive/racedata/LiteonRacingData/B/3/20190826120203_R222.png\n",
            "/content/gdrive/MyDrive/racedata/LiteonRacingData/B/3/20190817232637_R302.png\n",
            "/content/gdrive/MyDrive/racedata/LiteonRacingData/B/3/20190815163809_R171.png\n",
            "/content/gdrive/MyDrive/racedata/LiteonRacingData/B/3/20200325194030_200366930900136_6MR99_1_view87.png\n",
            "/content/gdrive/MyDrive/racedata/LiteonRacingData/B/3/20190826235113_R2063.png\n",
            "/content/gdrive/MyDrive/racedata/LiteonRacingData/B/3/20200320104223_200366306100196_U33R40_1_view87.png\n",
            "/content/gdrive/MyDrive/racedata/LiteonRacingData/B/3/20200320035438_200366306600463_O2R24_1_view50.png\n",
            "/content/gdrive/MyDrive/racedata/LiteonRacingData/B/3/20200504150455_8SSB20N60522H1DG05300W4_R590_1_view26.png\n",
            "/content/gdrive/MyDrive/racedata/LiteonRacingData/B/3/20200504124447_8SSB20N60522H1DG053013C_R646_1_view20.png\n",
            "/content/gdrive/MyDrive/racedata/LiteonRacingData/B/3/20200504164802_8SSB20N60522H1DG05300PD_R279_1_view49.png\n"
          ],
          "name": "stdout"
        }
      ]
    },
    {
      "cell_type": "code",
      "metadata": {
        "id": "YvyF3rpX-fJW"
      },
      "source": [
        "df2 = df2.sample(frac = 1)\n",
        "df2 = df2.groupby(['label']).head(1000)"
      ],
      "execution_count": 22,
      "outputs": []
    },
    {
      "cell_type": "code",
      "metadata": {
        "colab": {
          "base_uri": "https://localhost:8080/"
        },
        "id": "iagtgeyF-iug",
        "outputId": "92cde4b9-e222-4a4b-d953-e67476ed3f7b"
      },
      "source": [
        "df2['label'] = df2['label'].astype('category')\n",
        "df2['label'].value_counts()"
      ],
      "execution_count": 23,
      "outputs": [
        {
          "output_type": "execute_result",
          "data": {
            "text/plain": [
              "0    130\n",
              "7     10\n",
              "6     10\n",
              "5     10\n",
              "4     10\n",
              "3     10\n",
              "2     10\n",
              "1     10\n",
              "Name: label, dtype: int64"
            ]
          },
          "metadata": {},
          "execution_count": 23
        }
      ]
    }
  ]
}