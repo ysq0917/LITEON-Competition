{
  "nbformat": 4,
  "nbformat_minor": 0,
  "metadata": {
    "colab": {
      "name": "MixDensetry.ipynb",
      "provenance": [],
      "collapsed_sections": []
    },
    "kernelspec": {
      "name": "python3",
      "display_name": "Python 3"
    },
    "language_info": {
      "name": "python"
    },
    "accelerator": "GPU"
  },
  "cells": [
    {
      "cell_type": "code",
      "metadata": {
        "colab": {
          "base_uri": "https://localhost:8080/"
        },
        "id": "l9jiYLiNO3Vo",
        "outputId": "9afa0cc6-b59f-4547-df0a-ea30590be2e2"
      },
      "source": [
        "from google.colab import drive\n",
        "drive.mount('/content/gdrive')"
      ],
      "execution_count": 1,
      "outputs": [
        {
          "output_type": "stream",
          "text": [
            "Mounted at /content/gdrive\n"
          ],
          "name": "stdout"
        }
      ]
    },
    {
      "cell_type": "code",
      "metadata": {
        "id": "UbY-Ts09g4r5"
      },
      "source": [
        "# create new file\n",
        "#建立label 0-7 的資料夾\n",
        "import os\n",
        "for num in range(8):\n",
        "  DATASET_PATH = '/content/gdrive/MyDrive/new_datas/'\n",
        "  class_folders = DATASET_PATH + str(num)+str(num)\n",
        "\n",
        "  os.makedirs(class_folders, exist_ok=True)"
      ],
      "execution_count": null,
      "outputs": []
    },
    {
      "cell_type": "code",
      "metadata": {
        "colab": {
          "base_uri": "https://localhost:8080/"
        },
        "id": "DGhItIaFMRx-",
        "outputId": "419de794-95a0-4f33-9832-cfdad9298d42"
      },
      "source": [
        "# try 合併A，B資料\n",
        "import os\n",
        "import shutil\n",
        "\"/content/gdrive/MyDrive/racedata/LiteonRacingData/A/\"\n",
        "source_path = os.path.abspath(r'/content/gdrive/MyDrive/racedata/LiteonRacingData/B/0')     #B0文件夹\n",
        "\n",
        "source_path2 = os.path.abspath(r'/content/gdrive/MyDrive/racedata/LiteonRacingData/A/0')    #A0文件夹\n",
        "\n",
        "target_path= os.path.abspath(r'/content/gdrive/MyDrive/new_datas/00')     #t00文件夹\n",
        "\n",
        "if not os.path.exists(target_path):     #目标文件夹不存在就新建\n",
        "    os.makedirs(target_path)\n",
        "\n",
        "if os.path.exists(source_path):     #源文件夹存在才执行    \n",
        "    # root 所指的是当前正在遍历的这个文件夹的本身的地址\n",
        "    # dirs 是一个 list，内容是该文件夹中所有的目录的名字(不包括子目录)\n",
        "    # files 同样是 list, 内容是该文件夹中所有的文件(不包括子目录)\n",
        "    \n",
        "    for root, dirs, files in os.walk(source_path):\n",
        "        for f in files:\n",
        "            src_file = os.path.join(root, f)\n",
        "            shutil.copy(src_file, target_path)\n",
        "    for root, dirs, files in os.walk(source_path2):\n",
        "        for f in files:\n",
        "            src_file = os.path.join(root, f)\n",
        "            shutil.copy(src_file, target_path)\n",
        "print('复制完成AB0')"
      ],
      "execution_count": null,
      "outputs": [
        {
          "output_type": "stream",
          "text": [
            "复制完成AB0\n"
          ],
          "name": "stdout"
        }
      ]
    },
    {
      "cell_type": "code",
      "metadata": {
        "colab": {
          "base_uri": "https://localhost:8080/"
        },
        "id": "3zXbA2vqiQFD",
        "outputId": "57b4eea4-a235-4d50-b6d3-407f9e9831a8"
      },
      "source": [
        "# try 合併A，B資料\n",
        "import os\n",
        "import shutil\n",
        "\"/content/gdrive/MyDrive/racedata/LiteonRacingData/A/\"\n",
        "source_path = os.path.abspath(r'/content/gdrive/MyDrive/racedata/LiteonRacingData/B/1')     #B1文件夹\n",
        "\n",
        "source_path2 = os.path.abspath(r'/content/gdrive/MyDrive/racedata/LiteonRacingData/A/1')    #A1文件夹\n",
        "\n",
        "target_path= os.path.abspath(r'/content/gdrive/MyDrive/new_datas/11')     #t11文件夹\n",
        "\n",
        "if not os.path.exists(target_path):     #目标文件夹不存在就新建\n",
        "    os.makedirs(target_path)\n",
        "\n",
        "if os.path.exists(source_path):     #源文件夹存在才执行    \n",
        "    for root, dirs, files in os.walk(source_path):\n",
        "        for f in files:\n",
        "            src_file = os.path.join(root, f)\n",
        "            shutil.copy(src_file, target_path)\n",
        "            #print(src_file)\n",
        "    for root, dirs, files in os.walk(source_path2):\n",
        "        for f in files:\n",
        "            src_file = os.path.join(root, f)\n",
        "            shutil.copy(src_file, target_path)\n",
        "            #print(src_file)\n",
        "\n",
        "print('复制完成AB1')"
      ],
      "execution_count": null,
      "outputs": [
        {
          "output_type": "stream",
          "text": [
            "复制完成AB1\n"
          ],
          "name": "stdout"
        }
      ]
    },
    {
      "cell_type": "code",
      "metadata": {
        "colab": {
          "base_uri": "https://localhost:8080/"
        },
        "id": "Zkjbb8jZjUVJ",
        "outputId": "2317279f-17dc-426c-b99a-e6ba2c2de476"
      },
      "source": [
        "# try 合併A，B資料\n",
        "import os\n",
        "import shutil\n",
        "\"/content/gdrive/MyDrive/racedata/LiteonRacingData/A/\"\n",
        "source_path = os.path.abspath(r'/content/gdrive/MyDrive/racedata/LiteonRacingData/B/2')     #B2文件夹\n",
        "\n",
        "source_path2 = os.path.abspath(r'/content/gdrive/MyDrive/racedata/LiteonRacingData/A/2')    #A2文件夹\n",
        "\n",
        "target_path= os.path.abspath(r'/content/gdrive/MyDrive/new_datas/22')     #t22文件夹\n",
        "\n",
        "if not os.path.exists(target_path):     #目标文件夹不存在就新建\n",
        "    os.makedirs(target_path)\n",
        "\n",
        "if os.path.exists(source_path):     #源文件夹存在才执行    \n",
        "    for root, dirs, files in os.walk(source_path):\n",
        "        for f in files:\n",
        "            src_file = os.path.join(root, f)\n",
        "            shutil.copy(src_file, target_path)\n",
        "            #print(src_file)\n",
        "    for root, dirs, files in os.walk(source_path2):\n",
        "        for f in files:\n",
        "            src_file = os.path.join(root, f)\n",
        "            shutil.copy(src_file, target_path)\n",
        "            #print(src_file)\n",
        "\n",
        "print('复制完成AB2')"
      ],
      "execution_count": null,
      "outputs": [
        {
          "output_type": "stream",
          "text": [
            "复制完成AB2\n"
          ],
          "name": "stdout"
        }
      ]
    },
    {
      "cell_type": "code",
      "metadata": {
        "colab": {
          "base_uri": "https://localhost:8080/"
        },
        "id": "0-USQr86j5Af",
        "outputId": "26c1a377-6e52-4c5f-d1a3-85d8bc641d3a"
      },
      "source": [
        "# try 合併A，B資料\n",
        "import os\n",
        "import shutil\n",
        "\"/content/gdrive/MyDrive/racedata/LiteonRacingData/A/\"\n",
        "source_path = os.path.abspath(r'/content/gdrive/MyDrive/racedata/LiteonRacingData/B/3')     #B3文件夹\n",
        "\n",
        "source_path2 = os.path.abspath(r'/content/gdrive/MyDrive/racedata/LiteonRacingData/A/3')    #A3文件夹\n",
        "\n",
        "target_path= os.path.abspath(r'/content/gdrive/MyDrive/new_datas/33')     #t33文件夹\n",
        "\n",
        "if not os.path.exists(target_path):     #目标文件夹不存在就新建\n",
        "    os.makedirs(target_path)\n",
        "\n",
        "if os.path.exists(source_path):     #源文件夹存在才执行    \n",
        "    for root, dirs, files in os.walk(source_path):\n",
        "        for f in files:\n",
        "            src_file = os.path.join(root, f)\n",
        "            shutil.copy(src_file, target_path)\n",
        "            #print(src_file)\n",
        "    for root, dirs, files in os.walk(source_path2):\n",
        "        for f in files:\n",
        "            src_file = os.path.join(root, f)\n",
        "            shutil.copy(src_file, target_path)\n",
        "            #print(src_file)\n",
        "\n",
        "print('复制完成AB3')"
      ],
      "execution_count": null,
      "outputs": [
        {
          "output_type": "stream",
          "text": [
            "复制完成AB3\n"
          ],
          "name": "stdout"
        }
      ]
    },
    {
      "cell_type": "code",
      "metadata": {
        "colab": {
          "base_uri": "https://localhost:8080/"
        },
        "id": "7WyZKUgikLpi",
        "outputId": "5263c693-e942-483b-efc0-82bc42e16c95"
      },
      "source": [
        "# try 合併A，B資料\n",
        "import os\n",
        "import shutil\n",
        "\"/content/gdrive/MyDrive/racedata/LiteonRacingData/A/\"\n",
        "source_path = os.path.abspath(r'/content/gdrive/MyDrive/racedata/LiteonRacingData/B/4')     \n",
        "\n",
        "source_path2 = os.path.abspath(r'/content/gdrive/MyDrive/racedata/LiteonRacingData/A/4')    \n",
        "\n",
        "target_path= os.path.abspath(r'/content/gdrive/MyDrive/new_datas/44')     \n",
        "\n",
        "if not os.path.exists(target_path):     #目标文件夹不存在就新建\n",
        "    os.makedirs(target_path)\n",
        "\n",
        "if os.path.exists(source_path):     #源文件夹存在才执行    \n",
        "    for root, dirs, files in os.walk(source_path):\n",
        "        for f in files:\n",
        "            src_file = os.path.join(root, f)\n",
        "            shutil.copy(src_file, target_path)\n",
        "            #print(src_file)\n",
        "    for root, dirs, files in os.walk(source_path2):\n",
        "        for f in files:\n",
        "            src_file = os.path.join(root, f)\n",
        "            shutil.copy(src_file, target_path)\n",
        "            #print(src_file)\n",
        "\n",
        "print('复制完成AB4')"
      ],
      "execution_count": null,
      "outputs": [
        {
          "output_type": "stream",
          "text": [
            "复制完成AB4\n"
          ],
          "name": "stdout"
        }
      ]
    },
    {
      "cell_type": "code",
      "metadata": {
        "colab": {
          "base_uri": "https://localhost:8080/"
        },
        "id": "8j1BEfnQkX1G",
        "outputId": "3968fab2-ff9c-483a-cea3-c35caedebf0b"
      },
      "source": [
        "# try 合併A，B資料\n",
        "import os\n",
        "import shutil\n",
        "\"/content/gdrive/MyDrive/racedata/LiteonRacingData/A/\"\n",
        "source_path = os.path.abspath(r'/content/gdrive/MyDrive/racedata/LiteonRacingData/B/5')     \n",
        "\n",
        "source_path2 = os.path.abspath(r'/content/gdrive/MyDrive/racedata/LiteonRacingData/A/5')    \n",
        "\n",
        "target_path= os.path.abspath(r'/content/gdrive/MyDrive/new_datas/55')     \n",
        "\n",
        "if not os.path.exists(target_path):     #目标文件夹不存在就新建\n",
        "    os.makedirs(target_path)\n",
        "\n",
        "if os.path.exists(source_path):     #源文件夹存在才执行    \n",
        "    for root, dirs, files in os.walk(source_path):\n",
        "        for f in files:\n",
        "            src_file = os.path.join(root, f)\n",
        "            shutil.copy(src_file, target_path)\n",
        "            #print(src_file)\n",
        "    for root, dirs, files in os.walk(source_path2):\n",
        "        for f in files:\n",
        "            src_file = os.path.join(root, f)\n",
        "            shutil.copy(src_file, target_path)\n",
        "            #print(src_file)\n",
        "\n",
        "print('复制完成AB5')"
      ],
      "execution_count": null,
      "outputs": [
        {
          "output_type": "stream",
          "text": [
            "复制完成AB5\n"
          ],
          "name": "stdout"
        }
      ]
    },
    {
      "cell_type": "code",
      "metadata": {
        "colab": {
          "base_uri": "https://localhost:8080/"
        },
        "id": "gsvCFTsVkd4u",
        "outputId": "709a1abf-3e0a-4d59-cccc-ad2b339afe29"
      },
      "source": [
        "# try 合併A，B資料\n",
        "import os\n",
        "import shutil\n",
        "\"/content/gdrive/MyDrive/racedata/LiteonRacingData/A/\"\n",
        "source_path = os.path.abspath(r'/content/gdrive/MyDrive/racedata/LiteonRacingData/B/6')     \n",
        "\n",
        "source_path2 = os.path.abspath(r'/content/gdrive/MyDrive/racedata/LiteonRacingData/A/6')    \n",
        "\n",
        "target_path= os.path.abspath(r'/content/gdrive/MyDrive/new_datas/66')     \n",
        "\n",
        "if not os.path.exists(target_path):     #目标文件夹不存在就新建\n",
        "    os.makedirs(target_path)\n",
        "\n",
        "if os.path.exists(source_path):     #源文件夹存在才执行    \n",
        "    for root, dirs, files in os.walk(source_path):\n",
        "        for f in files:\n",
        "            src_file = os.path.join(root, f)\n",
        "            shutil.copy(src_file, target_path)\n",
        "            #print(src_file)\n",
        "    for root, dirs, files in os.walk(source_path2):\n",
        "        for f in files:\n",
        "            src_file = os.path.join(root, f)\n",
        "            shutil.copy(src_file, target_path)\n",
        "            #print(src_file)\n",
        "\n",
        "print('复制完成AB6')"
      ],
      "execution_count": null,
      "outputs": [
        {
          "output_type": "stream",
          "text": [
            "复制完成AB6\n"
          ],
          "name": "stdout"
        }
      ]
    },
    {
      "cell_type": "code",
      "metadata": {
        "colab": {
          "base_uri": "https://localhost:8080/"
        },
        "id": "-R_f-3uik2u8",
        "outputId": "4809111b-6795-4aa0-d8f8-51fbaec1373b"
      },
      "source": [
        "# try 合併A，B資料\n",
        "import os\n",
        "import shutil\n",
        "\"/content/gdrive/MyDrive/racedata/LiteonRacingData/A/\"\n",
        "source_path = os.path.abspath(r'/content/gdrive/MyDrive/racedata/LiteonRacingData/B/7')     \n",
        "\n",
        "source_path2 = os.path.abspath(r'/content/gdrive/MyDrive/racedata/LiteonRacingData/A/7')    \n",
        "\n",
        "target_path= os.path.abspath(r'/content/gdrive/MyDrive/new_datas/77')     \n",
        "\n",
        "if not os.path.exists(target_path):     #目标文件夹不存在就新建\n",
        "    os.makedirs(target_path)\n",
        "\n",
        "if os.path.exists(source_path):     #源文件夹存在才执行    \n",
        "    for root, dirs, files in os.walk(source_path):\n",
        "        for f in files:\n",
        "            src_file = os.path.join(root, f)\n",
        "            shutil.copy(src_file, target_path)\n",
        "            #print(src_file)\n",
        "    for root, dirs, files in os.walk(source_path2):\n",
        "        for f in files:\n",
        "            src_file = os.path.join(root, f)\n",
        "            shutil.copy(src_file, target_path)\n",
        "            #print(src_file)\n",
        "\n",
        "print('复制完成AB7')"
      ],
      "execution_count": null,
      "outputs": [
        {
          "output_type": "stream",
          "text": [
            "复制完成AB7\n"
          ],
          "name": "stdout"
        }
      ]
    },
    {
      "cell_type": "code",
      "metadata": {
        "colab": {
          "base_uri": "https://localhost:8080/"
        },
        "id": "vdXpFPNIOjuO",
        "outputId": "6a6f7e20-2b7e-4433-d15c-3ab7601948eb"
      },
      "source": [
        "#import\n",
        "from tensorflow.keras.callbacks import ReduceLROnPlateau,ModelCheckpoint\n",
        "from tensorflow.keras.preprocessing.image import ImageDataGenerator\n",
        "from sklearn.metrics import confusion_matrix\n",
        "import matplotlib.pyplot as plt\n",
        "import tensorflow as tf\n",
        "from PIL import Image\n",
        "import numpy as np  \n",
        "import itertools\n",
        "import json\n",
        "import os\n",
        "\n",
        "\n",
        "im_height = 224\n",
        "im_width = 224\n",
        "batch_size = 256\n",
        "epochs = 50\n",
        "\n",
        "# 创建保存模型的文件夹\n",
        "if not os.path.exists(\"save_weights\"):\n",
        "    os.makedirs(\"save_weights\")\n",
        "\n",
        "train_dir = \"/content/gdrive/MyDrive/new_datas/\"#data path\n",
        "\n",
        "# 定义训练集图像生成器，并进行图像增强\n",
        "train_image_generator = ImageDataGenerator( rescale=1./255, # 归一化\n",
        "                                            validation_split= 0.2, #80%train,20%test\n",
        "                                            #rotation_range=40, #旋转范围\n",
        "                                            #width_shift_range=0.2, #水平平移范围\n",
        "                                            #height_shift_range=0.2, #垂直平移范围\n",
        "                                            #shear_range=0.2, #剪切变换的程度\n",
        "                                            #zoom_range=0.2, #剪切变换的程度\n",
        "                                            #horizontal_flip=True,  #水平翻转\n",
        "                                            #fill_mode='nearest'\n",
        "                                            )\n",
        "                                            \n",
        "# 使用图像生成器从文件夹train_dir中读取样本，对标签进行one-hot编码\n",
        "train_data_gen = train_image_generator.flow_from_directory(directory=train_dir, #从训练集路径读取图片\n",
        "                                                           batch_size=batch_size, #一次训练所选取的样本数\n",
        "                                                           shuffle=True, #打乱标签\n",
        "                                                           target_size=(im_height, im_width), #图片resize到224x224大小\n",
        "                                                           class_mode='categorical',\n",
        "                                                           subset= \"training\"\n",
        "                                                           ) \n",
        "                                                           \n",
        "       \n",
        "total_train = train_data_gen.n \n",
        "\n",
        "# 使用图像生成器从验证集validation_dir中读取样本\n",
        "val_data_gen = train_image_generator.flow_from_directory(directory=train_dir,\n",
        "                                                              batch_size=batch_size, #一次训练所选取的样本数\n",
        "                                                              shuffle=False,  #不打乱标签\n",
        "                                                              target_size=(im_height, im_width), #图片resize到224x224大小\n",
        "                                                              class_mode='categorical',#one-hot编码\n",
        "                                                              save_to_dir='/content/gdrive/MyDrive/test_datas/',\n",
        "                                                              subset= \"validation\"\n",
        "                                                              ) \n",
        "                                                              \n",
        "# 验证集样本数      \n",
        "total_val = val_data_gen.n\n"
      ],
      "execution_count": 2,
      "outputs": [
        {
          "output_type": "stream",
          "text": [
            "Found 9764 images belonging to 8 classes.\n",
            "Found 2436 images belonging to 8 classes.\n"
          ],
          "name": "stdout"
        }
      ]
    },
    {
      "cell_type": "code",
      "metadata": {
        "colab": {
          "base_uri": "https://localhost:8080/"
        },
        "id": "hyqeF2vjRGLe",
        "outputId": "193038ab-f4aa-4ac1-d2e0-86aaeb209229"
      },
      "source": [
        "validation_data_dir = \"/content/gdrive/MyDrive/racedata/LiteonRacingData/B/\"\n",
        "from keras.preprocessing.image import ImageDataGenerator\n",
        "test_datagen = ImageDataGenerator(rescale=1. / 255)\n",
        "validation_generator = test_datagen.flow_from_directory(\n",
        "    validation_data_dir,\n",
        "    target_size=(224, 224),\n",
        "    batch_size=32,\n",
        "    class_mode='categorical')"
      ],
      "execution_count": 5,
      "outputs": [
        {
          "output_type": "stream",
          "text": [
            "Found 200 images belonging to 8 classes.\n"
          ],
          "name": "stdout"
        }
      ]
    },
    {
      "cell_type": "code",
      "metadata": {
        "colab": {
          "base_uri": "https://localhost:8080/"
        },
        "id": "KBfVsYIYP-Bi",
        "outputId": "e5320110-6d22-4ca6-c805-ca78099f4977"
      },
      "source": [
        "#使用tf.keras.applications中的DenseNet121网络，并且使用官方的预训练模型\n",
        "covn_base = tf.keras.applications.DenseNet121(weights='imagenet',include_top=False,input_shape=(224,224,3))\n",
        "covn_base.trainable = True\n",
        "\n",
        "#冻结前面的层，训练最后5层\n",
        "for layers in covn_base.layers[:-5]:\n",
        "    layers.trainable = False\n",
        "    \n",
        "#构建模型    \n",
        "model = tf.keras.Sequential()\n",
        "model.add(covn_base)\n",
        "model.add(tf.keras.layers.GlobalAveragePooling2D())  #加入全局平均池化层\n",
        "model.add(tf.keras.layers.Dense(512,activation='relu'))  #添加全连接层\n",
        "model.add(tf.keras.layers.Dropout(rate=0.5))  #添加Dropout层，防止过拟合\n",
        "model.add(tf.keras.layers.Dense(8,activation='softmax'))  #添加输出层 8個類別\n",
        "model.summary()   #打印每层参数信息 \n",
        "\n",
        "#编译模型\n",
        "model.compile(optimizer=tf.keras.optimizers.Adam(learning_rate=0.0001), #使用adam优化器，学习率为0.0001\n",
        "              loss=tf.keras.losses.CategoricalCrossentropy(from_logits=False), #交叉熵损失函数\n",
        "              metrics=[\"accuracy\"]) #评价函数\n"
      ],
      "execution_count": 3,
      "outputs": [
        {
          "output_type": "stream",
          "text": [
            "Downloading data from https://storage.googleapis.com/tensorflow/keras-applications/densenet/densenet121_weights_tf_dim_ordering_tf_kernels_notop.h5\n",
            "29089792/29084464 [==============================] - 0s 0us/step\n",
            "29097984/29084464 [==============================] - 0s 0us/step\n",
            "Model: \"sequential\"\n",
            "_________________________________________________________________\n",
            "Layer (type)                 Output Shape              Param #   \n",
            "=================================================================\n",
            "densenet121 (Functional)     (None, 7, 7, 1024)        7037504   \n",
            "_________________________________________________________________\n",
            "global_average_pooling2d (Gl (None, 1024)              0         \n",
            "_________________________________________________________________\n",
            "dense (Dense)                (None, 512)               524800    \n",
            "_________________________________________________________________\n",
            "dropout (Dropout)            (None, 512)               0         \n",
            "_________________________________________________________________\n",
            "dense_1 (Dense)              (None, 8)                 4104      \n",
            "=================================================================\n",
            "Total params: 7,566,408\n",
            "Trainable params: 567,816\n",
            "Non-trainable params: 6,998,592\n",
            "_________________________________________________________________\n"
          ],
          "name": "stdout"
        }
      ]
    },
    {
      "cell_type": "code",
      "metadata": {
        "colab": {
          "base_uri": "https://localhost:8080/"
        },
        "id": "ZGXZRbwkQnh3",
        "outputId": "818d3aae-1d88-4db9-811f-4721d5c4f734"
      },
      "source": [
        "#回调函数1:学习率衰减\n",
        "reduce_lr = ReduceLROnPlateau(\n",
        "                                monitor='val_loss', #需要监视的值\n",
        "                                factor=0.1,  #学习率衰减为原来的1/10\n",
        "                                patience=2,  #当patience个epoch过去而模型性能不提升时，学习率减少的动作会被触发\n",
        "                                #mode='auto', #当监测值为val_acc时，模式应为max，当监测值为val_loss时，模式应为min，在auto模式下，评价准则由被监测值的名字自动推断\n",
        "                                verbose=1 #如果为True，则为每次更新输出一条消息，默认值:False\n",
        "                             )\n",
        "#回调函数2:保存最优模型\n",
        "checkpoint = ModelCheckpoint(\n",
        "                                filepath='./save_weights/myDenseNet121.ckpt', #保存模型的路径\n",
        "                                monitor='val_acc', #需要监视的值\n",
        "                                save_weights_only=False, #若设置为True，则只保存模型权重，否则将保存整个模型（包括模型结构，配置信息等）\n",
        "                                save_best_only=False, #当设置为True时，监测值有改进时才会保存当前的模型\n",
        "                                #mode='auto', #当监测值为val_acc时，模式应为max，当监测值为val_loss时，模式应为min，在auto模式下，评价准则由被监测值的名字自动推断\n",
        "                                period=1 #CheckPoint之间的间隔的epoch数\n",
        "                            )"
      ],
      "execution_count": null,
      "outputs": [
        {
          "output_type": "stream",
          "text": [
            "WARNING:tensorflow:`period` argument is deprecated. Please use `save_freq` to specify the frequency in number of batches seen.\n"
          ],
          "name": "stdout"
        }
      ]
    },
    {
      "cell_type": "code",
      "metadata": {
        "colab": {
          "base_uri": "https://localhost:8080/"
        },
        "id": "eBE-xuIjU19r",
        "outputId": "1ba25f96-2bad-4625-a878-da8127da798f"
      },
      "source": [
        "#trainning\n",
        "history = model.fit(x=train_data_gen,   #输入训练集\n",
        "                    steps_per_epoch=total_train // batch_size, #一个epoch包含的训练步数\n",
        "                    epochs=25, #训练模型迭代次数\n",
        "                    validation_data=val_data_gen,  #输入验证集\n",
        "                    validation_steps=total_val // batch_size, #一个epoch包含的训练步数\n",
        "                    callbacks=[checkpoint, reduce_lr]) #执行回调函数\n",
        "                    \n",
        "#保存训练好的模型权重                    \n",
        "model.save_weights('./save_weights/myNASNetMobile.ckpt',save_format='tf') \n",
        "\n",
        "# 记录训练集和验证集的准确率和损失值\n",
        "history_dict = history.history\n",
        "train_loss = history_dict[\"loss\"] #训练集损失值\n",
        "train_accuracy = history_dict[\"accuracy\"] #训练集准确率\n",
        "val_loss = history_dict[\"val_loss\"] #验证集损失值\n",
        "val_accuracy = history_dict[\"val_accuracy\"] #验证集准确率"
      ],
      "execution_count": null,
      "outputs": [
        {
          "output_type": "stream",
          "text": [
            "Epoch 1/25\n",
            "38/38 [==============================] - 2928s 77s/step - loss: 1.3132 - accuracy: 0.6001 - val_loss: 0.7446 - val_accuracy: 0.7804\n",
            "INFO:tensorflow:Assets written to: ./save_weights/myDenseNet121.ckpt/assets\n",
            "Epoch 2/25\n",
            "38/38 [==============================] - 25s 661ms/step - loss: 0.6731 - accuracy: 0.8034 - val_loss: 0.5401 - val_accuracy: 0.8320\n",
            "INFO:tensorflow:Assets written to: ./save_weights/myDenseNet121.ckpt/assets\n",
            "Epoch 3/25\n",
            "38/38 [==============================] - 25s 652ms/step - loss: 0.5215 - accuracy: 0.8515 - val_loss: 0.4155 - val_accuracy: 0.8615\n",
            "INFO:tensorflow:Assets written to: ./save_weights/myDenseNet121.ckpt/assets\n",
            "Epoch 4/25\n",
            "38/38 [==============================] - 25s 655ms/step - loss: 0.4300 - accuracy: 0.8692 - val_loss: 0.3544 - val_accuracy: 0.8767\n",
            "INFO:tensorflow:Assets written to: ./save_weights/myDenseNet121.ckpt/assets\n",
            "Epoch 5/25\n",
            "38/38 [==============================] - 25s 654ms/step - loss: 0.3868 - accuracy: 0.8834 - val_loss: 0.3155 - val_accuracy: 0.8885\n",
            "INFO:tensorflow:Assets written to: ./save_weights/myDenseNet121.ckpt/assets\n",
            "Epoch 6/25\n",
            "38/38 [==============================] - 25s 654ms/step - loss: 0.3377 - accuracy: 0.8972 - val_loss: 0.2935 - val_accuracy: 0.8980\n",
            "INFO:tensorflow:Assets written to: ./save_weights/myDenseNet121.ckpt/assets\n",
            "Epoch 7/25\n",
            "38/38 [==============================] - 25s 648ms/step - loss: 0.3156 - accuracy: 0.9017 - val_loss: 0.2543 - val_accuracy: 0.9102\n",
            "INFO:tensorflow:Assets written to: ./save_weights/myDenseNet121.ckpt/assets\n",
            "Epoch 8/25\n",
            "38/38 [==============================] - 25s 640ms/step - loss: 0.2880 - accuracy: 0.9120 - val_loss: 0.2407 - val_accuracy: 0.9128\n",
            "INFO:tensorflow:Assets written to: ./save_weights/myDenseNet121.ckpt/assets\n",
            "Epoch 9/25\n",
            "38/38 [==============================] - 25s 640ms/step - loss: 0.2761 - accuracy: 0.9151 - val_loss: 0.2341 - val_accuracy: 0.9167\n",
            "INFO:tensorflow:Assets written to: ./save_weights/myDenseNet121.ckpt/assets\n",
            "Epoch 10/25\n",
            "38/38 [==============================] - 25s 651ms/step - loss: 0.2566 - accuracy: 0.9191 - val_loss: 0.2232 - val_accuracy: 0.9240\n",
            "INFO:tensorflow:Assets written to: ./save_weights/myDenseNet121.ckpt/assets\n",
            "Epoch 11/25\n",
            "38/38 [==============================] - 25s 645ms/step - loss: 0.2421 - accuracy: 0.9257 - val_loss: 0.1999 - val_accuracy: 0.9314\n",
            "INFO:tensorflow:Assets written to: ./save_weights/myDenseNet121.ckpt/assets\n",
            "Epoch 12/25\n",
            "38/38 [==============================] - 25s 645ms/step - loss: 0.2303 - accuracy: 0.9270 - val_loss: 0.2124 - val_accuracy: 0.9271\n",
            "INFO:tensorflow:Assets written to: ./save_weights/myDenseNet121.ckpt/assets\n",
            "Epoch 13/25\n",
            "38/38 [==============================] - 25s 644ms/step - loss: 0.2170 - accuracy: 0.9316 - val_loss: 0.2036 - val_accuracy: 0.9301\n",
            "INFO:tensorflow:Assets written to: ./save_weights/myDenseNet121.ckpt/assets\n",
            "\n",
            "Epoch 00013: ReduceLROnPlateau reducing learning rate to 9.999999747378752e-06.\n",
            "Epoch 14/25\n",
            "38/38 [==============================] - 25s 641ms/step - loss: 0.2135 - accuracy: 0.9326 - val_loss: 0.2137 - val_accuracy: 0.9275\n",
            "INFO:tensorflow:Assets written to: ./save_weights/myDenseNet121.ckpt/assets\n",
            "Epoch 15/25\n",
            "38/38 [==============================] - 25s 640ms/step - loss: 0.2055 - accuracy: 0.9351 - val_loss: 0.2163 - val_accuracy: 0.9271\n",
            "INFO:tensorflow:Assets written to: ./save_weights/myDenseNet121.ckpt/assets\n",
            "\n",
            "Epoch 00015: ReduceLROnPlateau reducing learning rate to 9.999999747378752e-07.\n",
            "Epoch 16/25\n",
            "38/38 [==============================] - 24s 638ms/step - loss: 0.2042 - accuracy: 0.9361 - val_loss: 0.2163 - val_accuracy: 0.9271\n",
            "INFO:tensorflow:Assets written to: ./save_weights/myDenseNet121.ckpt/assets\n",
            "Epoch 17/25\n",
            "38/38 [==============================] - 24s 639ms/step - loss: 0.2045 - accuracy: 0.9338 - val_loss: 0.2149 - val_accuracy: 0.9275\n",
            "INFO:tensorflow:Assets written to: ./save_weights/myDenseNet121.ckpt/assets\n",
            "\n",
            "Epoch 00017: ReduceLROnPlateau reducing learning rate to 9.999999974752428e-08.\n",
            "Epoch 18/25\n",
            "38/38 [==============================] - 24s 637ms/step - loss: 0.2091 - accuracy: 0.9342 - val_loss: 0.2141 - val_accuracy: 0.9275\n",
            "INFO:tensorflow:Assets written to: ./save_weights/myDenseNet121.ckpt/assets\n",
            "Epoch 19/25\n",
            "38/38 [==============================] - 25s 642ms/step - loss: 0.2088 - accuracy: 0.9340 - val_loss: 0.2145 - val_accuracy: 0.9275\n",
            "INFO:tensorflow:Assets written to: ./save_weights/myDenseNet121.ckpt/assets\n",
            "\n",
            "Epoch 00019: ReduceLROnPlateau reducing learning rate to 1.0000000116860975e-08.\n",
            "Epoch 20/25\n",
            "38/38 [==============================] - 24s 638ms/step - loss: 0.2069 - accuracy: 0.9352 - val_loss: 0.2142 - val_accuracy: 0.9275\n",
            "INFO:tensorflow:Assets written to: ./save_weights/myDenseNet121.ckpt/assets\n",
            "Epoch 21/25\n",
            "38/38 [==============================] - 24s 636ms/step - loss: 0.2023 - accuracy: 0.9372 - val_loss: 0.2139 - val_accuracy: 0.9280\n",
            "INFO:tensorflow:Assets written to: ./save_weights/myDenseNet121.ckpt/assets\n",
            "\n",
            "Epoch 00021: ReduceLROnPlateau reducing learning rate to 9.999999939225292e-10.\n",
            "Epoch 22/25\n",
            "38/38 [==============================] - 25s 641ms/step - loss: 0.2067 - accuracy: 0.9326 - val_loss: 0.2136 - val_accuracy: 0.9280\n",
            "INFO:tensorflow:Assets written to: ./save_weights/myDenseNet121.ckpt/assets\n",
            "Epoch 23/25\n",
            "38/38 [==============================] - 25s 639ms/step - loss: 0.2081 - accuracy: 0.9309 - val_loss: 0.2139 - val_accuracy: 0.9280\n",
            "INFO:tensorflow:Assets written to: ./save_weights/myDenseNet121.ckpt/assets\n",
            "\n",
            "Epoch 00023: ReduceLROnPlateau reducing learning rate to 9.999999717180686e-11.\n",
            "Epoch 24/25\n",
            "38/38 [==============================] - 24s 639ms/step - loss: 0.2058 - accuracy: 0.9359 - val_loss: 0.2136 - val_accuracy: 0.9280\n",
            "INFO:tensorflow:Assets written to: ./save_weights/myDenseNet121.ckpt/assets\n",
            "Epoch 25/25\n",
            "38/38 [==============================] - 24s 637ms/step - loss: 0.2076 - accuracy: 0.9350 - val_loss: 0.2140 - val_accuracy: 0.9280\n",
            "INFO:tensorflow:Assets written to: ./save_weights/myDenseNet121.ckpt/assets\n",
            "\n",
            "Epoch 00025: ReduceLROnPlateau reducing learning rate to 9.99999943962493e-12.\n"
          ],
          "name": "stdout"
        }
      ]
    },
    {
      "cell_type": "code",
      "metadata": {
        "id": "ASCSMzNyAgw1"
      },
      "source": [
        "#model.save('Densenetmodel.h5')\n",
        "model.save('/content/gdrive/MyDrive/racedata/mixDenseNetmodel.h5')"
      ],
      "execution_count": null,
      "outputs": []
    },
    {
      "cell_type": "code",
      "metadata": {
        "colab": {
          "base_uri": "https://localhost:8080/",
          "height": 281
        },
        "id": "Lkt0tn3VB0rX",
        "outputId": "17a3b566-5d59-41ef-980c-75200a14e4cb"
      },
      "source": [
        "plt.figure()\n",
        "plt.plot(range(25), train_accuracy, label='train_accuracy')\n",
        "plt.plot(range(25), val_accuracy, label='val_accuracy')\n",
        "plt.legend()\n",
        "plt.xlabel('epochs')\n",
        "plt.ylabel('accuracy')\n",
        "plt.show()"
      ],
      "execution_count": null,
      "outputs": [
        {
          "output_type": "display_data",
          "data": {
            "image/png": "[encoded data removed]",
            "text/plain": [
              "<Figure size 432x288 with 1 Axes>"
            ]
          },
          "metadata": {
            "needs_background": "light"
          }
        }
      ]
    },
    {
      "cell_type": "code",
      "metadata": {
        "colab": {
          "base_uri": "https://localhost:8080/",
          "height": 296
        },
        "id": "UDcdPUgTCbsP",
        "outputId": "d851d18d-7669-4261-e008-0875dc905aec"
      },
      "source": [
        "plt.figure()\n",
        "plt.plot(range(25), train_loss, label='train_loss')\n",
        "plt.plot(range(25), val_loss, label='val_loss')\n",
        "plt.legend()\n",
        "plt.xlabel('epochs')\n",
        "plt.ylabel('loss')"
      ],
      "execution_count": null,
      "outputs": [
        {
          "output_type": "execute_result",
          "data": {
            "text/plain": [
              "Text(0, 0.5, 'loss')"
            ]
          },
          "metadata": {},
          "execution_count": 10
        },
        {
          "output_type": "display_data",
          "data": {
            "image/png": "[encoded data removed]",
            "text/plain": [
              "<Figure size 432x288 with 1 Axes>"
            ]
          },
          "metadata": {
            "needs_background": "light"
          }
        }
      ]
    },
    {
      "cell_type": "code",
      "metadata": {
        "id": "QW2_GAXpO8Hy"
      },
      "source": [
        "os.mkdir('/content/gdrive/MyDrive/test_datas/')"
      ],
      "execution_count": null,
      "outputs": []
    },
    {
      "cell_type": "code",
      "metadata": {
        "colab": {
          "base_uri": "https://localhost:8080/"
        },
        "id": "sFCmcpQ4ATw-",
        "outputId": "256d1ba0-9844-4b1e-ca66-af337c9009ad"
      },
      "source": [
        "import pandas as pd\n",
        "import os\n",
        "dir = '/content/gdrive/MyDrive/racedata/LiteonRacingData/B'\n",
        "label = []\n",
        "path = []\n",
        "for dirname, _,filenames in os.walk(dir):\n",
        "    for filename in filenames:\n",
        "        #print(filename)\n",
        "        if os.path.splitext(filename)[1]=='.png':\n",
        "            if dirname.split()[-1]!='GT':\n",
        "                print(os.path.split(dirname))\n",
        "                label.append(os.path.split(dirname)[1][0])\n",
        "                path.append(os.path.join(dirname,filename))\n",
        "                print(os.path.join(dirname,filename))\n",
        "df2 = pd.DataFrame(columns = ['path','label'])\n",
        "df2['path'] = path\n",
        "df2['label'] = label"
      ],
      "execution_count": 10,
      "outputs": [
        {
          "output_type": "stream",
          "text": [
            "('/content/gdrive/MyDrive/racedata/LiteonRacingData/B', '1')\n",
            "/content/gdrive/MyDrive/racedata/LiteonRacingData/B/1/20190816145757_R116.png\n",
            "('/content/gdrive/MyDrive/racedata/LiteonRacingData/B', '1')\n",
            "/content/gdrive/MyDrive/racedata/LiteonRacingData/B/1/20190816145757_R2362.png\n",
            "('/content/gdrive/MyDrive/racedata/LiteonRacingData/B', '1')\n",
            "/content/gdrive/MyDrive/racedata/LiteonRacingData/B/1/20190816170639_R59.png\n",
            "('/content/gdrive/MyDrive/racedata/LiteonRacingData/B', '1')\n",
            "/content/gdrive/MyDrive/racedata/LiteonRacingData/B/1/20200316094821_200265880400533_OR7_1_view69.png\n",
            "('/content/gdrive/MyDrive/racedata/LiteonRacingData/B', '1')\n",
            "/content/gdrive/MyDrive/racedata/LiteonRacingData/B/1/20200316100022_200265880400788_XR20_1_view20.png\n",
            "('/content/gdrive/MyDrive/racedata/LiteonRacingData/B', '1')\n",
            "/content/gdrive/MyDrive/racedata/LiteonRacingData/B/1/20200322181650_A6521L3K01269_R43_1_view9.png\n",
            "('/content/gdrive/MyDrive/racedata/LiteonRacingData/B', '1')\n",
            "/content/gdrive/MyDrive/racedata/LiteonRacingData/B/1/20200224193213_R1031_1.png\n",
            "('/content/gdrive/MyDrive/racedata/LiteonRacingData/B', '1')\n",
            "/content/gdrive/MyDrive/racedata/LiteonRacingData/B/1/20200228092633_OR8081_1.png\n",
            "('/content/gdrive/MyDrive/racedata/LiteonRacingData/B', '1')\n",
            "/content/gdrive/MyDrive/racedata/LiteonRacingData/B/1/20200314202325_200366067100021_PR1077_1_view65.png\n",
            "('/content/gdrive/MyDrive/racedata/LiteonRacingData/B', '1')\n",
            "/content/gdrive/MyDrive/racedata/LiteonRacingData/B/1/20200314194603_200366067100405_O2R58_1_view50.png\n",
            "('/content/gdrive/MyDrive/racedata/LiteonRacingData/B', '5')\n",
            "/content/gdrive/MyDrive/racedata/LiteonRacingData/B/5/20191115142401_8SSB20N60289H1DG9BC07AA_R8_1_view10.png\n",
            "('/content/gdrive/MyDrive/racedata/LiteonRacingData/B', '5')\n",
            "/content/gdrive/MyDrive/racedata/LiteonRacingData/B/5/20191115142401_8SSB20N60289H1DG9BC07AA_R17_1_view9.png\n",
            "('/content/gdrive/MyDrive/racedata/LiteonRacingData/B', '5')\n",
            "/content/gdrive/MyDrive/racedata/LiteonRacingData/B/5/20191113235753_8SSB20N60289H1DG9B901VA_R723_1_view12.png\n",
            "('/content/gdrive/MyDrive/racedata/LiteonRacingData/B', '5')\n",
            "/content/gdrive/MyDrive/racedata/LiteonRacingData/B/5/20200224210526_R377_1.png\n",
            "('/content/gdrive/MyDrive/racedata/LiteonRacingData/B', '5')\n",
            "/content/gdrive/MyDrive/racedata/LiteonRacingData/B/5/20200224221944_R130_1.png\n",
            "('/content/gdrive/MyDrive/racedata/LiteonRacingData/B', '5')\n",
            "/content/gdrive/MyDrive/racedata/LiteonRacingData/B/5/20200224212137_R365_1.png\n",
            "('/content/gdrive/MyDrive/racedata/LiteonRacingData/B', '5')\n",
            "/content/gdrive/MyDrive/racedata/LiteonRacingData/B/5/20200306083526_AR29_1.png\n",
            "('/content/gdrive/MyDrive/racedata/LiteonRacingData/B', '5')\n",
            "/content/gdrive/MyDrive/racedata/LiteonRacingData/B/5/20200322234910_8SSB20N60232H2DG03L04Y9_SR201_1_view28.png\n",
            "('/content/gdrive/MyDrive/racedata/LiteonRacingData/B', '5')\n",
            "/content/gdrive/MyDrive/racedata/LiteonRacingData/B/5/20200328082248_8SSB20N60232H2DG03S01DH_R29_1_view33.png\n",
            "('/content/gdrive/MyDrive/racedata/LiteonRacingData/B', '5')\n",
            "/content/gdrive/MyDrive/racedata/LiteonRacingData/B/5/20190909223423_R723.png\n",
            "('/content/gdrive/MyDrive/racedata/LiteonRacingData/B', '7')\n",
            "/content/gdrive/MyDrive/racedata/LiteonRacingData/B/7/20190915184227_8SSB20N60289H1DG99A02DM_R323_1_S.png\n",
            "('/content/gdrive/MyDrive/racedata/LiteonRacingData/B', '7')\n",
            "/content/gdrive/MyDrive/racedata/LiteonRacingData/B/7/20190914192130_8SSB20N60289H1DG99A058N_R306_1_S.png\n",
            "('/content/gdrive/MyDrive/racedata/LiteonRacingData/B', '7')\n",
            "/content/gdrive/MyDrive/racedata/LiteonRacingData/B/7/20200316123624_200265880400880_CFR31_1_view55.png\n",
            "('/content/gdrive/MyDrive/racedata/LiteonRacingData/B', '7')\n",
            "/content/gdrive/MyDrive/racedata/LiteonRacingData/B/7/20200316145249_200265880400808_GR18_1_view47.png\n",
            "('/content/gdrive/MyDrive/racedata/LiteonRacingData/B', '7')\n",
            "/content/gdrive/MyDrive/racedata/LiteonRacingData/B/7/20200319135516_200366305100243_PR2220_1_view72.png\n",
            "('/content/gdrive/MyDrive/racedata/LiteonRacingData/B', '7')\n",
            "/content/gdrive/MyDrive/racedata/LiteonRacingData/B/7/20200316123842_200265880400520_CFR24_1_view21.png\n",
            "('/content/gdrive/MyDrive/racedata/LiteonRacingData/B', '7')\n",
            "/content/gdrive/MyDrive/racedata/LiteonRacingData/B/7/20200321163309_200366306901126_SR1895_1_view47.png\n",
            "('/content/gdrive/MyDrive/racedata/LiteonRacingData/B', '7')\n",
            "/content/gdrive/MyDrive/racedata/LiteonRacingData/B/7/20200323030939_200366305200465_PR3019_1_view31.png\n",
            "('/content/gdrive/MyDrive/racedata/LiteonRacingData/B', '7')\n",
            "/content/gdrive/MyDrive/racedata/LiteonRacingData/B/7/20200314043535_8SSB20N60248H1DG03900D9_R777_1_view16.png\n",
            "('/content/gdrive/MyDrive/racedata/LiteonRacingData/B', '7')\n",
            "/content/gdrive/MyDrive/racedata/LiteonRacingData/B/7/20200320090424_200366306100002_OR202_1_view46.png\n",
            "('/content/gdrive/MyDrive/racedata/LiteonRacingData/B', '6')\n",
            "/content/gdrive/MyDrive/racedata/LiteonRacingData/B/6/20200325172518_200366930900172_O2R210_1_view80.png\n",
            "('/content/gdrive/MyDrive/racedata/LiteonRacingData/B', '6')\n",
            "/content/gdrive/MyDrive/racedata/LiteonRacingData/B/6/20200325214403_200366930900490_SR122_1_view23.png\n",
            "('/content/gdrive/MyDrive/racedata/LiteonRacingData/B', '6')\n",
            "/content/gdrive/MyDrive/racedata/LiteonRacingData/B/6/20200325220517_200366930900464_O3R16_1_view83.png\n",
            "('/content/gdrive/MyDrive/racedata/LiteonRacingData/B', '6')\n",
            "/content/gdrive/MyDrive/racedata/LiteonRacingData/B/6/20200325221228_200366930900509_SR1642_1_view78.png\n",
            "('/content/gdrive/MyDrive/racedata/LiteonRacingData/B', '6')\n",
            "/content/gdrive/MyDrive/racedata/LiteonRacingData/B/6/20200321080752_200366306900401_D4R5_1_view8.png\n",
            "('/content/gdrive/MyDrive/racedata/LiteonRacingData/B', '6')\n",
            "/content/gdrive/MyDrive/racedata/LiteonRacingData/B/6/20200320184238_200366306400340_PR758_1_view31.png\n",
            "('/content/gdrive/MyDrive/racedata/LiteonRacingData/B', '6')\n",
            "/content/gdrive/MyDrive/racedata/LiteonRacingData/B/6/20200320190247_200366306400322_U31R65_1_view57.png\n",
            "('/content/gdrive/MyDrive/racedata/LiteonRacingData/B', '6')\n",
            "/content/gdrive/MyDrive/racedata/LiteonRacingData/B/6/20200325053935_200366930800382_L1R16_1_view42.png\n",
            "('/content/gdrive/MyDrive/racedata/LiteonRacingData/B', '6')\n",
            "/content/gdrive/MyDrive/racedata/LiteonRacingData/B/6/20200330112951_8SSB20N60232H2DG03V035L_R110_1_view46.png\n",
            "('/content/gdrive/MyDrive/racedata/LiteonRacingData/B', '6')\n",
            "/content/gdrive/MyDrive/racedata/LiteonRacingData/B/6/20190826114059_R291.png\n",
            "('/content/gdrive/MyDrive/racedata/LiteonRacingData/B', '0')\n",
            "/content/gdrive/MyDrive/racedata/LiteonRacingData/B/0/20190825134255_R217.png\n",
            "('/content/gdrive/MyDrive/racedata/LiteonRacingData/B', '0')\n",
            "/content/gdrive/MyDrive/racedata/LiteonRacingData/B/0/20190825130045_R1737.png\n",
            "('/content/gdrive/MyDrive/racedata/LiteonRacingData/B', '0')\n",
            "/content/gdrive/MyDrive/racedata/LiteonRacingData/B/0/20190825045706_R69.png\n",
            "('/content/gdrive/MyDrive/racedata/LiteonRacingData/B', '0')\n",
            "/content/gdrive/MyDrive/racedata/LiteonRacingData/B/0/20190825232409_R217.png\n",
            "('/content/gdrive/MyDrive/racedata/LiteonRacingData/B', '0')\n",
            "/content/gdrive/MyDrive/racedata/LiteonRacingData/B/0/20190826012248_R217.png\n",
            "('/content/gdrive/MyDrive/racedata/LiteonRacingData/B', '0')\n",
            "/content/gdrive/MyDrive/racedata/LiteonRacingData/B/0/20190825193252_R805.png\n",
            "('/content/gdrive/MyDrive/racedata/LiteonRacingData/B', '0')\n",
            "/content/gdrive/MyDrive/racedata/LiteonRacingData/B/0/20190826015051_R217.png\n",
            "('/content/gdrive/MyDrive/racedata/LiteonRacingData/B', '0')\n",
            "/content/gdrive/MyDrive/racedata/LiteonRacingData/B/0/20190830205243_R217.png\n",
            "('/content/gdrive/MyDrive/racedata/LiteonRacingData/B', '0')\n",
            "/content/gdrive/MyDrive/racedata/LiteonRacingData/B/0/20190816114533_R936.png\n",
            "('/content/gdrive/MyDrive/racedata/LiteonRacingData/B', '0')\n",
            "/content/gdrive/MyDrive/racedata/LiteonRacingData/B/0/20190816144353_R936.png\n",
            "('/content/gdrive/MyDrive/racedata/LiteonRacingData/B', '0')\n",
            "/content/gdrive/MyDrive/racedata/LiteonRacingData/B/0/20190816120511_R936.png\n",
            "('/content/gdrive/MyDrive/racedata/LiteonRacingData/B', '0')\n",
            "/content/gdrive/MyDrive/racedata/LiteonRacingData/B/0/20190816115715_R936.png\n",
            "('/content/gdrive/MyDrive/racedata/LiteonRacingData/B', '0')\n",
            "/content/gdrive/MyDrive/racedata/LiteonRacingData/B/0/20190817084529_R428.png\n",
            "('/content/gdrive/MyDrive/racedata/LiteonRacingData/B', '0')\n",
            "/content/gdrive/MyDrive/racedata/LiteonRacingData/B/0/20190817185257_R428.png\n",
            "('/content/gdrive/MyDrive/racedata/LiteonRacingData/B', '0')\n",
            "/content/gdrive/MyDrive/racedata/LiteonRacingData/B/0/20190821053211_R526.png\n",
            "('/content/gdrive/MyDrive/racedata/LiteonRacingData/B', '0')\n",
            "/content/gdrive/MyDrive/racedata/LiteonRacingData/B/0/20190821110438_R2229.png\n",
            "('/content/gdrive/MyDrive/racedata/LiteonRacingData/B', '0')\n",
            "/content/gdrive/MyDrive/racedata/LiteonRacingData/B/0/20191114131114_8SSB20N60289H1DG9B9007Y_R854_1_view50.png\n",
            "('/content/gdrive/MyDrive/racedata/LiteonRacingData/B', '0')\n",
            "/content/gdrive/MyDrive/racedata/LiteonRacingData/B/0/20191110044457_8SSB20N60287H1DG9B6032R_R1720_1_view48.png\n",
            "('/content/gdrive/MyDrive/racedata/LiteonRacingData/B', '0')\n",
            "/content/gdrive/MyDrive/racedata/LiteonRacingData/B/0/20191113232255_8SSB20N60289H1DG9B901XG_R1736_1_view9.png\n",
            "('/content/gdrive/MyDrive/racedata/LiteonRacingData/B', '0')\n",
            "/content/gdrive/MyDrive/racedata/LiteonRacingData/B/0/20191110050743_8SSB20N60287H1DG9B60313_R1950_1_view51.png\n",
            "('/content/gdrive/MyDrive/racedata/LiteonRacingData/B', '0')\n",
            "/content/gdrive/MyDrive/racedata/LiteonRacingData/B/0/20200222004935_R970_1.png\n",
            "('/content/gdrive/MyDrive/racedata/LiteonRacingData/B', '0')\n",
            "/content/gdrive/MyDrive/racedata/LiteonRacingData/B/0/20200222080534_R970_1.png\n",
            "('/content/gdrive/MyDrive/racedata/LiteonRacingData/B', '0')\n",
            "/content/gdrive/MyDrive/racedata/LiteonRacingData/B/0/20200223011255_R971_1.png\n",
            "('/content/gdrive/MyDrive/racedata/LiteonRacingData/B', '0')\n",
            "/content/gdrive/MyDrive/racedata/LiteonRacingData/B/0/20200223150214_R853_1.png\n",
            "('/content/gdrive/MyDrive/racedata/LiteonRacingData/B', '0')\n",
            "/content/gdrive/MyDrive/racedata/LiteonRacingData/B/0/20200225000523_R431_1.png\n",
            "('/content/gdrive/MyDrive/racedata/LiteonRacingData/B', '0')\n",
            "/content/gdrive/MyDrive/racedata/LiteonRacingData/B/0/20200225005945_R546_1.png\n",
            "('/content/gdrive/MyDrive/racedata/LiteonRacingData/B', '0')\n",
            "/content/gdrive/MyDrive/racedata/LiteonRacingData/B/0/20200225015327_R431_1.png\n",
            "('/content/gdrive/MyDrive/racedata/LiteonRacingData/B', '0')\n",
            "/content/gdrive/MyDrive/racedata/LiteonRacingData/B/0/20200225024705_R431_1.png\n",
            "('/content/gdrive/MyDrive/racedata/LiteonRacingData/B', '0')\n",
            "/content/gdrive/MyDrive/racedata/LiteonRacingData/B/0/20200225025121_R431_1.png\n",
            "('/content/gdrive/MyDrive/racedata/LiteonRacingData/B', '0')\n",
            "/content/gdrive/MyDrive/racedata/LiteonRacingData/B/0/20200225035721_R1013_1.png\n",
            "('/content/gdrive/MyDrive/racedata/LiteonRacingData/B', '0')\n",
            "/content/gdrive/MyDrive/racedata/LiteonRacingData/B/0/20200225044554_R431_1.png\n",
            "('/content/gdrive/MyDrive/racedata/LiteonRacingData/B', '0')\n",
            "/content/gdrive/MyDrive/racedata/LiteonRacingData/B/0/20200225044813_R431_1.png\n",
            "('/content/gdrive/MyDrive/racedata/LiteonRacingData/B', '0')\n",
            "/content/gdrive/MyDrive/racedata/LiteonRacingData/B/0/20200225043223_R431_1.png\n",
            "('/content/gdrive/MyDrive/racedata/LiteonRacingData/B', '0')\n",
            "/content/gdrive/MyDrive/racedata/LiteonRacingData/B/0/20200225050544_R129_1.png\n",
            "('/content/gdrive/MyDrive/racedata/LiteonRacingData/B', '0')\n",
            "/content/gdrive/MyDrive/racedata/LiteonRacingData/B/0/20200225045347_R431_1.png\n",
            "('/content/gdrive/MyDrive/racedata/LiteonRacingData/B', '0')\n",
            "/content/gdrive/MyDrive/racedata/LiteonRacingData/B/0/20191111013422_8SSB20N60287H1DG9B600EK_R723_1_view46.png\n",
            "('/content/gdrive/MyDrive/racedata/LiteonRacingData/B', '0')\n",
            "/content/gdrive/MyDrive/racedata/LiteonRacingData/B/0/20191113020902_8SSB20N60289H1DG9B904H6_R723_1_view12.png\n",
            "('/content/gdrive/MyDrive/racedata/LiteonRacingData/B', '0')\n",
            "/content/gdrive/MyDrive/racedata/LiteonRacingData/B/0/20200222044818_R970_1.png\n",
            "('/content/gdrive/MyDrive/racedata/LiteonRacingData/B', '0')\n",
            "/content/gdrive/MyDrive/racedata/LiteonRacingData/B/0/20200222020319_R970_1.png\n",
            "('/content/gdrive/MyDrive/racedata/LiteonRacingData/B', '0')\n",
            "/content/gdrive/MyDrive/racedata/LiteonRacingData/B/0/20200222050333_R970_1.png\n",
            "('/content/gdrive/MyDrive/racedata/LiteonRacingData/B', '0')\n",
            "/content/gdrive/MyDrive/racedata/LiteonRacingData/B/0/20200222052836_R970_1.png\n",
            "('/content/gdrive/MyDrive/racedata/LiteonRacingData/B', '0')\n",
            "/content/gdrive/MyDrive/racedata/LiteonRacingData/B/0/20200224000850_R970_1.png\n",
            "('/content/gdrive/MyDrive/racedata/LiteonRacingData/B', '0')\n",
            "/content/gdrive/MyDrive/racedata/LiteonRacingData/B/0/20200224001625_R970_1.png\n",
            "('/content/gdrive/MyDrive/racedata/LiteonRacingData/B', '0')\n",
            "/content/gdrive/MyDrive/racedata/LiteonRacingData/B/0/20200223224030_R970_1.png\n",
            "('/content/gdrive/MyDrive/racedata/LiteonRacingData/B', '0')\n",
            "/content/gdrive/MyDrive/racedata/LiteonRacingData/B/0/20190825031743_R624.png\n",
            "('/content/gdrive/MyDrive/racedata/LiteonRacingData/B', '0')\n",
            "/content/gdrive/MyDrive/racedata/LiteonRacingData/B/0/20190901141845_R994.png\n",
            "('/content/gdrive/MyDrive/racedata/LiteonRacingData/B', '0')\n",
            "/content/gdrive/MyDrive/racedata/LiteonRacingData/B/0/20190901132400_R981.png\n",
            "('/content/gdrive/MyDrive/racedata/LiteonRacingData/B', '0')\n",
            "/content/gdrive/MyDrive/racedata/LiteonRacingData/B/0/20190901181155_R994.png\n",
            "('/content/gdrive/MyDrive/racedata/LiteonRacingData/B', '0')\n",
            "/content/gdrive/MyDrive/racedata/LiteonRacingData/B/0/20200225020710_R127_1.png\n",
            "('/content/gdrive/MyDrive/racedata/LiteonRacingData/B', '0')\n",
            "/content/gdrive/MyDrive/racedata/LiteonRacingData/B/0/20200225050200_R128_1.png\n",
            "('/content/gdrive/MyDrive/racedata/LiteonRacingData/B', '0')\n",
            "/content/gdrive/MyDrive/racedata/LiteonRacingData/B/0/20191111193431_8SSB20N60289H1DG9B9086G_R723_1_view12.png\n",
            "('/content/gdrive/MyDrive/racedata/LiteonRacingData/B', '0')\n",
            "/content/gdrive/MyDrive/racedata/LiteonRacingData/B/0/20200422002503_8SSB20N60289H1DG04J059H_R7_1_view10.png\n",
            "('/content/gdrive/MyDrive/racedata/LiteonRacingData/B', '0')\n",
            "/content/gdrive/MyDrive/racedata/LiteonRacingData/B/0/20200422000919_8SSB20N60289H1DG04J05AT_R39_1_view68.png\n",
            "('/content/gdrive/MyDrive/racedata/LiteonRacingData/B', '0')\n",
            "/content/gdrive/MyDrive/racedata/LiteonRacingData/B/0/20200422003311_8SSB20N60289H1DG04J0592_R307_1_view5.png\n",
            "('/content/gdrive/MyDrive/racedata/LiteonRacingData/B', '0')\n",
            "/content/gdrive/MyDrive/racedata/LiteonRacingData/B/0/20200422022454_8SSB20N60289H1DG04J051E_R41_1_view17.png\n",
            "('/content/gdrive/MyDrive/racedata/LiteonRacingData/B', '0')\n",
            "/content/gdrive/MyDrive/racedata/LiteonRacingData/B/0/20200422041923_8SSB20N60289H1DG04J04RY_R813_1_view9.png\n",
            "('/content/gdrive/MyDrive/racedata/LiteonRacingData/B', '0')\n",
            "/content/gdrive/MyDrive/racedata/LiteonRacingData/B/0/20200422014820_8SSB20N60289H1DG04J053X_R39_1_view68.png\n",
            "('/content/gdrive/MyDrive/racedata/LiteonRacingData/B', '0')\n",
            "/content/gdrive/MyDrive/racedata/LiteonRacingData/B/0/20200422043838_8SSB20N60289H1DG04J04PB_R485_1_view27.png\n",
            "('/content/gdrive/MyDrive/racedata/LiteonRacingData/B', '0')\n",
            "/content/gdrive/MyDrive/racedata/LiteonRacingData/B/0/20200422035216_8SSB20N60289H1DG04J04TR_R539_1_view28.png\n",
            "('/content/gdrive/MyDrive/racedata/LiteonRacingData/B', '0')\n",
            "/content/gdrive/MyDrive/racedata/LiteonRacingData/B/0/20200422023902_8SSB20N60289H1DG04J0506_R732_1_view57.png\n",
            "('/content/gdrive/MyDrive/racedata/LiteonRacingData/B', '0')\n",
            "/content/gdrive/MyDrive/racedata/LiteonRacingData/B/0/20200422043558_8SSB20N60289H1DG04J04PH_R39_1_view68.png\n",
            "('/content/gdrive/MyDrive/racedata/LiteonRacingData/B', '0')\n",
            "/content/gdrive/MyDrive/racedata/LiteonRacingData/B/0/20200422041945_8SSB20N60289H1DG04J04RX_R39_1_view68.png\n",
            "('/content/gdrive/MyDrive/racedata/LiteonRacingData/B', '0')\n",
            "/content/gdrive/MyDrive/racedata/LiteonRacingData/B/0/20200422010502_8SSB20N60289H1DG04J056S_R2064_1_view7.png\n",
            "('/content/gdrive/MyDrive/racedata/LiteonRacingData/B', '0')\n",
            "/content/gdrive/MyDrive/racedata/LiteonRacingData/B/0/20200422015924_8SSB20N60289H1DG04J0536_R39_1_view68.png\n",
            "('/content/gdrive/MyDrive/racedata/LiteonRacingData/B', '0')\n",
            "/content/gdrive/MyDrive/racedata/LiteonRacingData/B/0/20200422004415_8SSB20N60289H1DG04J0588_R553_1_view28.png\n",
            "('/content/gdrive/MyDrive/racedata/LiteonRacingData/B', '0')\n",
            "/content/gdrive/MyDrive/racedata/LiteonRacingData/B/0/20200422020052_8SSB20N60289H1DG04J0534_R192_1_view13.png\n",
            "('/content/gdrive/MyDrive/racedata/LiteonRacingData/B', '0')\n",
            "/content/gdrive/MyDrive/racedata/LiteonRacingData/B/0/20200422042704_8SSB20N60289H1DG04J04R9_R39_1_view68.png\n",
            "('/content/gdrive/MyDrive/racedata/LiteonRacingData/B', '0')\n",
            "/content/gdrive/MyDrive/racedata/LiteonRacingData/B/0/20200422063334_8SSB20N60289H1DG04J04F6_R7_1_view10.png\n",
            "('/content/gdrive/MyDrive/racedata/LiteonRacingData/B', '0')\n",
            "/content/gdrive/MyDrive/racedata/LiteonRacingData/B/0/20200422061722_8SSB20N60289H1DG04J04FY_R39_1_view68.png\n",
            "('/content/gdrive/MyDrive/racedata/LiteonRacingData/B', '0')\n",
            "/content/gdrive/MyDrive/racedata/LiteonRacingData/B/0/20200422125142_8SSB20N60289H1DG04J03PE_R39_1_view68.png\n",
            "('/content/gdrive/MyDrive/racedata/LiteonRacingData/B', '0')\n",
            "/content/gdrive/MyDrive/racedata/LiteonRacingData/B/0/20200422082201_8SSB20N60289H1DG04J049W_R968_1_view58.png\n",
            "('/content/gdrive/MyDrive/racedata/LiteonRacingData/B', '0')\n",
            "/content/gdrive/MyDrive/racedata/LiteonRacingData/B/0/20200422082416_8SSB20N60289H1DG04J049P_R947_1_view65.png\n",
            "('/content/gdrive/MyDrive/racedata/LiteonRacingData/B', '0')\n",
            "/content/gdrive/MyDrive/racedata/LiteonRacingData/B/0/20200422082837_8SSB20N60289H1DG04J049A_R39_1_view68.png\n",
            "('/content/gdrive/MyDrive/racedata/LiteonRacingData/B', '0')\n",
            "/content/gdrive/MyDrive/racedata/LiteonRacingData/B/0/20200422051025_8SSB20N60289H1DG04J04M0_R39_1_view68.png\n",
            "('/content/gdrive/MyDrive/racedata/LiteonRacingData/B', '0')\n",
            "/content/gdrive/MyDrive/racedata/LiteonRacingData/B/0/20200422083606_8SSB20N60289H1DG04J048R_R39_1_view68.png\n",
            "('/content/gdrive/MyDrive/racedata/LiteonRacingData/B', '0')\n",
            "/content/gdrive/MyDrive/racedata/LiteonRacingData/B/0/20200422140923_8SSB20N60289H1DG04J03JB_R39_1_view68.png\n",
            "('/content/gdrive/MyDrive/racedata/LiteonRacingData/B', '0')\n",
            "/content/gdrive/MyDrive/racedata/LiteonRacingData/B/0/20200422081506_8SSB20N60289H1DG04J04A8_R39_1_view68.png\n",
            "('/content/gdrive/MyDrive/racedata/LiteonRacingData/B', '0')\n",
            "/content/gdrive/MyDrive/racedata/LiteonRacingData/B/0/20200422055923_8SSB20N60289H1DG04J04H8_R39_1_view68.png\n",
            "('/content/gdrive/MyDrive/racedata/LiteonRacingData/B', '0')\n",
            "/content/gdrive/MyDrive/racedata/LiteonRacingData/B/0/20200422044742_8SSB20N60289H1DG04J04NP_R39_1_view68.png\n",
            "('/content/gdrive/MyDrive/racedata/LiteonRacingData/B', '0')\n",
            "/content/gdrive/MyDrive/racedata/LiteonRacingData/B/0/20200422070709_8SSB20N60289H1DG04J04CZ_R947_1_view65.png\n",
            "('/content/gdrive/MyDrive/racedata/LiteonRacingData/B', '0')\n",
            "/content/gdrive/MyDrive/racedata/LiteonRacingData/B/0/20200422044133_8SSB20N60289H1DG04J04P4_R7_1_view10.png\n",
            "('/content/gdrive/MyDrive/racedata/LiteonRacingData/B', '0')\n",
            "/content/gdrive/MyDrive/racedata/LiteonRacingData/B/0/20200422063834_8SSB20N60289H1DG04J04EP_R48_1_view68.png\n",
            "('/content/gdrive/MyDrive/racedata/LiteonRacingData/B', '0')\n",
            "/content/gdrive/MyDrive/racedata/LiteonRacingData/B/0/20200422050525_8SSB20N60289H1DG04J04MC_R806_1_view65.png\n",
            "('/content/gdrive/MyDrive/racedata/LiteonRacingData/B', '0')\n",
            "/content/gdrive/MyDrive/racedata/LiteonRacingData/B/0/20200422052301_8SSB20N60289H1DG04J04L4_R308_1_view6.png\n",
            "('/content/gdrive/MyDrive/racedata/LiteonRacingData/B', '0')\n",
            "/content/gdrive/MyDrive/racedata/LiteonRacingData/B/0/20200422052419_8SSB20N60289H1DG04J04L1_R553_1_view28.png\n",
            "('/content/gdrive/MyDrive/racedata/LiteonRacingData/B', '0')\n",
            "/content/gdrive/MyDrive/racedata/LiteonRacingData/B/0/20200422052301_8SSB20N60289H1DG04J04L4_R39_1_view68.png\n",
            "('/content/gdrive/MyDrive/racedata/LiteonRacingData/B', '0')\n",
            "/content/gdrive/MyDrive/racedata/LiteonRacingData/B/0/20200422064244_8SSB20N60289H1DG04J04EE_R668_1_view59.png\n",
            "('/content/gdrive/MyDrive/racedata/LiteonRacingData/B', '0')\n",
            "/content/gdrive/MyDrive/racedata/LiteonRacingData/B/0/20200422052803_8SSB20N60289H1DG04J04KP_R39_1_view68.png\n",
            "('/content/gdrive/MyDrive/racedata/LiteonRacingData/B', '0')\n",
            "/content/gdrive/MyDrive/racedata/LiteonRacingData/B/0/20200422050706_8SSB20N60289H1DG04J04M8_R7_1_view10.png\n",
            "('/content/gdrive/MyDrive/racedata/LiteonRacingData/B', '0')\n",
            "/content/gdrive/MyDrive/racedata/LiteonRacingData/B/0/20200422072010_8SSB20N60289H1DG04J04BW_R39_1_view68.png\n",
            "('/content/gdrive/MyDrive/racedata/LiteonRacingData/B', '0')\n",
            "/content/gdrive/MyDrive/racedata/LiteonRacingData/B/0/20200422092202_8SSB20N60289H1DG04J045E_R565_1_view68.png\n",
            "('/content/gdrive/MyDrive/racedata/LiteonRacingData/B', '0')\n",
            "/content/gdrive/MyDrive/racedata/LiteonRacingData/B/0/20200504161254_8SSB20N60289H1DG04T01GL_R826_1_view50.png\n",
            "('/content/gdrive/MyDrive/racedata/LiteonRacingData/B', '0')\n",
            "/content/gdrive/MyDrive/racedata/LiteonRacingData/B/0/20200504202249_8SSB20N60289H1DG04T012G_R826_1_view50.png\n",
            "('/content/gdrive/MyDrive/racedata/LiteonRacingData/B', '0')\n",
            "/content/gdrive/MyDrive/racedata/LiteonRacingData/B/0/20200504134819_8SSB20N60289H1DG04T01TY_R1255_1_view50.png\n",
            "('/content/gdrive/MyDrive/racedata/LiteonRacingData/B', '0')\n",
            "/content/gdrive/MyDrive/racedata/LiteonRacingData/B/0/20200504135113_8SSB20N60289H1DG04T01XJ_R278_1_view14.png\n",
            "('/content/gdrive/MyDrive/racedata/LiteonRacingData/B', '0')\n",
            "/content/gdrive/MyDrive/racedata/LiteonRacingData/B/0/20200504135113_8SSB20N60289H1DG04T01XJ_R318_1_view28.png\n",
            "('/content/gdrive/MyDrive/racedata/LiteonRacingData/B', '0')\n",
            "/content/gdrive/MyDrive/racedata/LiteonRacingData/B/0/20200504201737_8SSB20N60289H1DG04T012Y_R779_1_view60.png\n",
            "('/content/gdrive/MyDrive/racedata/LiteonRacingData/B', '0')\n",
            "/content/gdrive/MyDrive/racedata/LiteonRacingData/B/0/20200504150301_8SSB20N60289H1DG04T01MP_R2183_1_view50.png\n",
            "('/content/gdrive/MyDrive/racedata/LiteonRacingData/B', '0')\n",
            "/content/gdrive/MyDrive/racedata/LiteonRacingData/B/0/20200504230945_8SSB20N60289H1DG04T00S6_R988_1_view51.png\n",
            "('/content/gdrive/MyDrive/racedata/LiteonRacingData/B', '0')\n",
            "/content/gdrive/MyDrive/racedata/LiteonRacingData/B/0/20200504184634_8SSB20N60289H1DG04T016B_R826_1_view50.png\n",
            "('/content/gdrive/MyDrive/racedata/LiteonRacingData/B', '0')\n",
            "/content/gdrive/MyDrive/racedata/LiteonRacingData/B/0/20200504110839_8SSB20N60289H1DG04T0258_R1841_1_view50.png\n",
            "('/content/gdrive/MyDrive/racedata/LiteonRacingData/B', '0')\n",
            "/content/gdrive/MyDrive/racedata/LiteonRacingData/B/0/20200504190523_8SSB20N60289H1DG04T014Z_R988_1_view51.png\n",
            "('/content/gdrive/MyDrive/racedata/LiteonRacingData/B', '0')\n",
            "/content/gdrive/MyDrive/racedata/LiteonRacingData/B/0/20200504134234_8SSB20N60289H1DG04T01W0_R1040_1_view51.png\n",
            "('/content/gdrive/MyDrive/racedata/LiteonRacingData/B', '0')\n",
            "/content/gdrive/MyDrive/racedata/LiteonRacingData/B/0/20200504203519_8SSB20N60289H1DG04T011R_R936_1_view50.png\n",
            "('/content/gdrive/MyDrive/racedata/LiteonRacingData/B', '0')\n",
            "/content/gdrive/MyDrive/racedata/LiteonRacingData/B/0/20200504124937_8SSB20N60289H1DG04T01YR_R2183_1_view50.png\n",
            "('/content/gdrive/MyDrive/racedata/LiteonRacingData/B', '0')\n",
            "/content/gdrive/MyDrive/racedata/LiteonRacingData/B/0/20200504131908_8SSB20N60289H1DG04T01X1_R349_1_view13.png\n",
            "('/content/gdrive/MyDrive/racedata/LiteonRacingData/B', '0')\n",
            "/content/gdrive/MyDrive/racedata/LiteonRacingData/B/0/20200504115757_8SSB20N60289H1DG04T0224_R2238_1_view50.png\n",
            "('/content/gdrive/MyDrive/racedata/LiteonRacingData/B', '0')\n",
            "/content/gdrive/MyDrive/racedata/LiteonRacingData/B/0/20200504150301_8SSB20N60289H1DG04T01MP_R2009_1_view53.png\n",
            "('/content/gdrive/MyDrive/racedata/LiteonRacingData/B', '0')\n",
            "/content/gdrive/MyDrive/racedata/LiteonRacingData/B/0/20200504143807_8SSB20N60289H1DG04T01PF_R826_1_view50.png\n",
            "('/content/gdrive/MyDrive/racedata/LiteonRacingData/B', '0')\n",
            "/content/gdrive/MyDrive/racedata/LiteonRacingData/B/0/20200504205036_8SSB20N60522H1DG053002F_R545_1_view27.png\n",
            "('/content/gdrive/MyDrive/racedata/LiteonRacingData/B', '0')\n",
            "/content/gdrive/MyDrive/racedata/LiteonRacingData/B/0/20200504205443_8SSB20N60522H1DG053001H_R301_1_view49.png\n",
            "('/content/gdrive/MyDrive/racedata/LiteonRacingData/B', '0')\n",
            "/content/gdrive/MyDrive/racedata/LiteonRacingData/B/0/20200504205443_8SSB20N60522H1DG053001H_R521_1_view26.png\n",
            "('/content/gdrive/MyDrive/racedata/LiteonRacingData/B', '0')\n",
            "/content/gdrive/MyDrive/racedata/LiteonRacingData/B/0/20200504213039_8SSB20N60522H1DG05300N7_R849_1_view15.png\n",
            "('/content/gdrive/MyDrive/racedata/LiteonRacingData/B', '0')\n",
            "/content/gdrive/MyDrive/racedata/LiteonRacingData/B/0/20200504213101_8SSB20N60522H1DG05300H7_R489_1_view30.png\n",
            "('/content/gdrive/MyDrive/racedata/LiteonRacingData/B', '0')\n",
            "/content/gdrive/MyDrive/racedata/LiteonRacingData/B/0/20200504184647_8SSB20N60522H1DG05300FJ_R712_1_view23.png\n",
            "('/content/gdrive/MyDrive/racedata/LiteonRacingData/B', '0')\n",
            "/content/gdrive/MyDrive/racedata/LiteonRacingData/B/0/20200504214340_8SSB20N60522H1DG05300XG_R954_1_view13.png\n",
            "('/content/gdrive/MyDrive/racedata/LiteonRacingData/B', '0')\n",
            "/content/gdrive/MyDrive/racedata/LiteonRacingData/B/0/20200504223628_8SSB20N60522H1DG05300H0_R306_1_view32.png\n",
            "('/content/gdrive/MyDrive/racedata/LiteonRacingData/B', '0')\n",
            "/content/gdrive/MyDrive/racedata/LiteonRacingData/B/0/20200504135248_8SSB20N60522H1DG053010C_R424_1_view62.png\n",
            "('/content/gdrive/MyDrive/racedata/LiteonRacingData/B', '0')\n",
            "/content/gdrive/MyDrive/racedata/LiteonRacingData/B/0/20200504165055_8SSB20N60522H1DG05300P8_R524_1_view26.png\n",
            "('/content/gdrive/MyDrive/racedata/LiteonRacingData/B', '0')\n",
            "/content/gdrive/MyDrive/racedata/LiteonRacingData/B/0/20200504155617_8SSB20N60522H1DG05300T4_R178_1_view38.png\n",
            "('/content/gdrive/MyDrive/racedata/LiteonRacingData/B', '0')\n",
            "/content/gdrive/MyDrive/racedata/LiteonRacingData/B/0/20200504124805_8SSB20N60522H1DG053014W_R861_1_view10.png\n",
            "('/content/gdrive/MyDrive/racedata/LiteonRacingData/B', '0')\n",
            "/content/gdrive/MyDrive/racedata/LiteonRacingData/B/0/20200504122356_8SSB20N60522H1DG0530158_R16_1_view45.png\n",
            "('/content/gdrive/MyDrive/racedata/LiteonRacingData/B', '0')\n",
            "/content/gdrive/MyDrive/racedata/LiteonRacingData/B/0/20200504122356_8SSB20N60522H1DG0530158_R669_1_view20.png\n",
            "('/content/gdrive/MyDrive/racedata/LiteonRacingData/B', '0')\n",
            "/content/gdrive/MyDrive/racedata/LiteonRacingData/B/0/20200504182011_8SSB20N60522H1DG05300HC_R424_1_view62.png\n",
            "('/content/gdrive/MyDrive/racedata/LiteonRacingData/B', '0')\n",
            "/content/gdrive/MyDrive/racedata/LiteonRacingData/B/0/20200504164649_8SSB20N60522H1DG05300PG_R187_1_view42.png\n",
            "('/content/gdrive/MyDrive/racedata/LiteonRacingData/B', '0')\n",
            "/content/gdrive/MyDrive/racedata/LiteonRacingData/B/0/20200509091614_200468495502588_6CR80_1_view59.png\n",
            "('/content/gdrive/MyDrive/racedata/LiteonRacingData/B', '0')\n",
            "/content/gdrive/MyDrive/racedata/LiteonRacingData/B/0/20190904063111_R26.png\n",
            "('/content/gdrive/MyDrive/racedata/LiteonRacingData/B', '0')\n",
            "/content/gdrive/MyDrive/racedata/LiteonRacingData/B/0/20200701154901_8SSB20N60112H1DG06Y08JL_R995_1_view45.png\n",
            "('/content/gdrive/MyDrive/racedata/LiteonRacingData/B', '0')\n",
            "/content/gdrive/MyDrive/racedata/LiteonRacingData/B/0/20200701154618_8SSB20N60112H1DG06Y08JV_R995_1_view45.png\n",
            "('/content/gdrive/MyDrive/racedata/LiteonRacingData/B', '0')\n",
            "/content/gdrive/MyDrive/racedata/LiteonRacingData/B/0/20210323083118-R62-1.png\n",
            "('/content/gdrive/MyDrive/racedata/LiteonRacingData/B', '2')\n",
            "/content/gdrive/MyDrive/racedata/LiteonRacingData/B/2/20200306083638_PR758_1.png\n",
            "('/content/gdrive/MyDrive/racedata/LiteonRacingData/B', '2')\n",
            "/content/gdrive/MyDrive/racedata/LiteonRacingData/B/2/20200306100401_U27R1_1.png\n",
            "('/content/gdrive/MyDrive/racedata/LiteonRacingData/B', '2')\n",
            "/content/gdrive/MyDrive/racedata/LiteonRacingData/B/2/20200313023507_8SSB20N60248H1DG0390298_R339_1_view37.png\n",
            "('/content/gdrive/MyDrive/racedata/LiteonRacingData/B', '2')\n",
            "/content/gdrive/MyDrive/racedata/LiteonRacingData/B/2/20200313191512_8SSB20N60248H1DG039014W_R701_1_view33.png\n",
            "('/content/gdrive/MyDrive/racedata/LiteonRacingData/B', '2')\n",
            "/content/gdrive/MyDrive/racedata/LiteonRacingData/B/2/20200313043840_8SSB20N60248H1DG0390234_R616_1_view25.png\n",
            "('/content/gdrive/MyDrive/racedata/LiteonRacingData/B', '2')\n",
            "/content/gdrive/MyDrive/racedata/LiteonRacingData/B/2/20200314092746_8SSB20N60248H1DG039001F_R112_1_view14.png\n",
            "('/content/gdrive/MyDrive/racedata/LiteonRacingData/B', '2')\n",
            "/content/gdrive/MyDrive/racedata/LiteonRacingData/B/2/20200314083032_8SSB20N60248H1DG039003N_R3376_1_view6.png\n",
            "('/content/gdrive/MyDrive/racedata/LiteonRacingData/B', '2')\n",
            "/content/gdrive/MyDrive/racedata/LiteonRacingData/B/2/20200314174446_8SSB20N60232H2DG03A04H6_SR58_1_view26.png\n",
            "('/content/gdrive/MyDrive/racedata/LiteonRacingData/B', '2')\n",
            "/content/gdrive/MyDrive/racedata/LiteonRacingData/B/2/20200314120854_200366064900805_O2R35_1_view58.png\n",
            "('/content/gdrive/MyDrive/racedata/LiteonRacingData/B', '2')\n",
            "/content/gdrive/MyDrive/racedata/LiteonRacingData/B/2/20200314121343_200366064900756_SR100_1_view35.png\n",
            "('/content/gdrive/MyDrive/racedata/LiteonRacingData/B', '4')\n",
            "/content/gdrive/MyDrive/racedata/LiteonRacingData/B/4/20190902181320_R870.png\n",
            "('/content/gdrive/MyDrive/racedata/LiteonRacingData/B', '4')\n",
            "/content/gdrive/MyDrive/racedata/LiteonRacingData/B/4/20200226200136_PR2543_1.png\n",
            "('/content/gdrive/MyDrive/racedata/LiteonRacingData/B', '4')\n",
            "/content/gdrive/MyDrive/racedata/LiteonRacingData/B/4/20200301142912_SR4338_1.png\n",
            "('/content/gdrive/MyDrive/racedata/LiteonRacingData/B', '4')\n",
            "/content/gdrive/MyDrive/racedata/LiteonRacingData/B/4/20200301142843_SR4338_1.png\n",
            "('/content/gdrive/MyDrive/racedata/LiteonRacingData/B', '4')\n",
            "/content/gdrive/MyDrive/racedata/LiteonRacingData/B/4/20200321193822_200366306901533_PR1006_1_view10.png\n",
            "('/content/gdrive/MyDrive/racedata/LiteonRacingData/B', '4')\n",
            "/content/gdrive/MyDrive/racedata/LiteonRacingData/B/4/20200226191725_PR2543_1.png\n",
            "('/content/gdrive/MyDrive/racedata/LiteonRacingData/B', '4')\n",
            "/content/gdrive/MyDrive/racedata/LiteonRacingData/B/4/20200325100408_8SSB20N60232H2DG03L08N4_R299_1_view40.png\n",
            "('/content/gdrive/MyDrive/racedata/LiteonRacingData/B', '4')\n",
            "/content/gdrive/MyDrive/racedata/LiteonRacingData/B/4/20200325100809_8SSB20N60232H2DG03L08MP_R299_1_view40.png\n",
            "('/content/gdrive/MyDrive/racedata/LiteonRacingData/B', '4')\n",
            "/content/gdrive/MyDrive/racedata/LiteonRacingData/B/4/20200325102811_8SSB20N60232H2DG03L08MC_R299_1_view40.png\n",
            "('/content/gdrive/MyDrive/racedata/LiteonRacingData/B', '4')\n",
            "/content/gdrive/MyDrive/racedata/LiteonRacingData/B/4/20200325102746_8SSB20N60232H2DG03L08MA_R299_1_view40.png\n",
            "('/content/gdrive/MyDrive/racedata/LiteonRacingData/B', '3')\n",
            "/content/gdrive/MyDrive/racedata/LiteonRacingData/B/3/20190826120203_R222.png\n",
            "('/content/gdrive/MyDrive/racedata/LiteonRacingData/B', '3')\n",
            "/content/gdrive/MyDrive/racedata/LiteonRacingData/B/3/20190817232637_R302.png\n",
            "('/content/gdrive/MyDrive/racedata/LiteonRacingData/B', '3')\n",
            "/content/gdrive/MyDrive/racedata/LiteonRacingData/B/3/20190815163809_R171.png\n",
            "('/content/gdrive/MyDrive/racedata/LiteonRacingData/B', '3')\n",
            "/content/gdrive/MyDrive/racedata/LiteonRacingData/B/3/20200325194030_200366930900136_6MR99_1_view87.png\n",
            "('/content/gdrive/MyDrive/racedata/LiteonRacingData/B', '3')\n",
            "/content/gdrive/MyDrive/racedata/LiteonRacingData/B/3/20190826235113_R2063.png\n",
            "('/content/gdrive/MyDrive/racedata/LiteonRacingData/B', '3')\n",
            "/content/gdrive/MyDrive/racedata/LiteonRacingData/B/3/20200320104223_200366306100196_U33R40_1_view87.png\n",
            "('/content/gdrive/MyDrive/racedata/LiteonRacingData/B', '3')\n",
            "/content/gdrive/MyDrive/racedata/LiteonRacingData/B/3/20200320035438_200366306600463_O2R24_1_view50.png\n",
            "('/content/gdrive/MyDrive/racedata/LiteonRacingData/B', '3')\n",
            "/content/gdrive/MyDrive/racedata/LiteonRacingData/B/3/20200504150455_8SSB20N60522H1DG05300W4_R590_1_view26.png\n",
            "('/content/gdrive/MyDrive/racedata/LiteonRacingData/B', '3')\n",
            "/content/gdrive/MyDrive/racedata/LiteonRacingData/B/3/20200504124447_8SSB20N60522H1DG053013C_R646_1_view20.png\n",
            "('/content/gdrive/MyDrive/racedata/LiteonRacingData/B', '3')\n",
            "/content/gdrive/MyDrive/racedata/LiteonRacingData/B/3/20200504164802_8SSB20N60522H1DG05300PD_R279_1_view49.png\n"
          ],
          "name": "stdout"
        }
      ]
    },
    {
      "cell_type": "code",
      "metadata": {
        "id": "7P16Vt7kAUAu"
      },
      "source": [
        "df2 = df2.sample(frac = 1)\n",
        "df2 = df2.groupby(['label']).head(1000)"
      ],
      "execution_count": 11,
      "outputs": []
    },
    {
      "cell_type": "code",
      "metadata": {
        "colab": {
          "base_uri": "https://localhost:8080/"
        },
        "id": "f9Cy_ZpIAUMj",
        "outputId": "1387a525-1bc3-45cf-bfd0-19ff9ac55619"
      },
      "source": [
        "df2['label'] = df2['label'].astype('category')\n",
        "df2['label'].value_counts()"
      ],
      "execution_count": 12,
      "outputs": [
        {
          "output_type": "execute_result",
          "data": {
            "text/plain": [
              "0    130\n",
              "7     10\n",
              "6     10\n",
              "5     10\n",
              "4     10\n",
              "3     10\n",
              "2     10\n",
              "1     10\n",
              "Name: label, dtype: int64"
            ]
          },
          "metadata": {},
          "execution_count": 12
        }
      ]
    },
    {
      "cell_type": "code",
      "metadata": {
        "id": "gvwHEMt-BcHO"
      },
      "source": [
        "import tensorflow as tf\n",
        "model=tf.keras.models.load_model('/content/gdrive/MyDrive/racedata/mixDenseNetmodel.h5')"
      ],
      "execution_count": 7,
      "outputs": []
    },
    {
      "cell_type": "code",
      "metadata": {
        "colab": {
          "base_uri": "https://localhost:8080/"
        },
        "id": "4rC8_oOwTLsU",
        "outputId": "36b4f45a-aa26-402b-937f-7a778703f05a"
      },
      "source": [
        "np.isnan(pred).any()"
      ],
      "execution_count": null,
      "outputs": [
        {
          "output_type": "execute_result",
          "data": {
            "text/plain": [
              "False"
            ]
          },
          "metadata": {},
          "execution_count": 31
        }
      ]
    },
    {
      "cell_type": "code",
      "metadata": {
        "colab": {
          "base_uri": "https://localhost:8080/",
          "height": 435
        },
        "id": "aeXqwAk63epR",
        "outputId": "a5710d20-8adc-4d27-ad93-863ac6964556"
      },
      "source": [
        "import seaborn as sns\n",
        "import numpy as np\n",
        "pred = model.predict(validation_generator)\n",
        "pred=np.argmax(pred,axis=1)\n",
        "pred_df=df2.copy()\n",
        "labels={}\n",
        "for l,v in validation_generator.class_indices.items():\n",
        "    print(l)\n",
        "    labels.update({v:l})\n",
        "pred_df['pred']=pred\n",
        "pred_df['pred']=pred_df['pred'].apply(lambda x: labels[x])\n",
        "\n",
        "#print(pred_df['pred']) \n",
        "#print(pred_df['label'])\n",
        "\n",
        "from sklearn.metrics import confusion_matrix, classification_report, accuracy_score\n",
        "print(f\"Accuracy Score: {accuracy_score(pred_df['label'],pred_df['pred'])}\")\n",
        "sns.heatmap(confusion_matrix(pred_df['label'],pred_df['pred']), annot=True, fmt='2d')"
      ],
      "execution_count": 13,
      "outputs": [
        {
          "output_type": "stream",
          "text": [
            "0\n",
            "1\n",
            "2\n",
            "3\n",
            "4\n",
            "5\n",
            "6\n",
            "7\n",
            "Accuracy Score: 0.48\n"
          ],
          "name": "stdout"
        },
        {
          "output_type": "execute_result",
          "data": {
            "text/plain": [
              "<matplotlib.axes._subplots.AxesSubplot at 0x7f55ac4568d0>"
            ]
          },
          "metadata": {},
          "execution_count": 13
        },
        {
          "output_type": "display_data",
          "data": {
            "image/png": "[encoded data removed]",
            "text/plain": [
              "<Figure size 432x288 with 2 Axes>"
            ]
          },
          "metadata": {
            "needs_background": "light"
          }
        }
      ]
    }
  ]
}